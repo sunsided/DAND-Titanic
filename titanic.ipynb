{
 "cells": [
  {
   "cell_type": "markdown",
   "metadata": {
    "collapsed": true
   },
   "source": [
    "# Analyzing the Titanic dataset\n",
    "\n",
    "Here we will perform an analysis of the [Kaggle Titanic dataset](https://www.kaggle.com/c/titanic/data) concerned with the passengers involved in the [RMS Titanic](https://en.wikipedia.org/wiki/RMS_Titanic) iceberg collision disaster April 14th to 15th, 1912."
   ]
  },
  {
   "cell_type": "markdown",
   "metadata": {},
   "source": [
    "First we load up the dataset and take a look at the raw data in order to get an understanding about the kind of data we're dealing with. Knowing the kind and shape of the available data will allow us to come up with questions we can ask about the dataset, as well as strategies to prepare the data for the analysis."
   ]
  },
  {
   "cell_type": "code",
   "execution_count": 1,
   "metadata": {},
   "outputs": [
    {
     "data": {
      "text/html": [
       "<div>\n",
       "<style>\n",
       "    .dataframe thead tr:only-child th {\n",
       "        text-align: right;\n",
       "    }\n",
       "\n",
       "    .dataframe thead th {\n",
       "        text-align: left;\n",
       "    }\n",
       "\n",
       "    .dataframe tbody tr th {\n",
       "        vertical-align: top;\n",
       "    }\n",
       "</style>\n",
       "<table border=\"1\" class=\"dataframe\">\n",
       "  <thead>\n",
       "    <tr style=\"text-align: right;\">\n",
       "      <th></th>\n",
       "      <th>PassengerId</th>\n",
       "      <th>Survived</th>\n",
       "      <th>Pclass</th>\n",
       "      <th>Name</th>\n",
       "      <th>Sex</th>\n",
       "      <th>Age</th>\n",
       "      <th>SibSp</th>\n",
       "      <th>Parch</th>\n",
       "      <th>Ticket</th>\n",
       "      <th>Fare</th>\n",
       "      <th>Cabin</th>\n",
       "      <th>Embarked</th>\n",
       "    </tr>\n",
       "  </thead>\n",
       "  <tbody>\n",
       "    <tr>\n",
       "      <th>0</th>\n",
       "      <td>1</td>\n",
       "      <td>0</td>\n",
       "      <td>3</td>\n",
       "      <td>Braund, Mr. Owen Harris</td>\n",
       "      <td>male</td>\n",
       "      <td>22.0</td>\n",
       "      <td>1</td>\n",
       "      <td>0</td>\n",
       "      <td>A/5 21171</td>\n",
       "      <td>7.2500</td>\n",
       "      <td>NaN</td>\n",
       "      <td>S</td>\n",
       "    </tr>\n",
       "    <tr>\n",
       "      <th>1</th>\n",
       "      <td>2</td>\n",
       "      <td>1</td>\n",
       "      <td>1</td>\n",
       "      <td>Cumings, Mrs. John Bradley (Florence Briggs Th...</td>\n",
       "      <td>female</td>\n",
       "      <td>38.0</td>\n",
       "      <td>1</td>\n",
       "      <td>0</td>\n",
       "      <td>PC 17599</td>\n",
       "      <td>71.2833</td>\n",
       "      <td>C85</td>\n",
       "      <td>C</td>\n",
       "    </tr>\n",
       "    <tr>\n",
       "      <th>2</th>\n",
       "      <td>3</td>\n",
       "      <td>1</td>\n",
       "      <td>3</td>\n",
       "      <td>Heikkinen, Miss. Laina</td>\n",
       "      <td>female</td>\n",
       "      <td>26.0</td>\n",
       "      <td>0</td>\n",
       "      <td>0</td>\n",
       "      <td>STON/O2. 3101282</td>\n",
       "      <td>7.9250</td>\n",
       "      <td>NaN</td>\n",
       "      <td>S</td>\n",
       "    </tr>\n",
       "    <tr>\n",
       "      <th>3</th>\n",
       "      <td>4</td>\n",
       "      <td>1</td>\n",
       "      <td>1</td>\n",
       "      <td>Futrelle, Mrs. Jacques Heath (Lily May Peel)</td>\n",
       "      <td>female</td>\n",
       "      <td>35.0</td>\n",
       "      <td>1</td>\n",
       "      <td>0</td>\n",
       "      <td>113803</td>\n",
       "      <td>53.1000</td>\n",
       "      <td>C123</td>\n",
       "      <td>S</td>\n",
       "    </tr>\n",
       "    <tr>\n",
       "      <th>4</th>\n",
       "      <td>5</td>\n",
       "      <td>0</td>\n",
       "      <td>3</td>\n",
       "      <td>Allen, Mr. William Henry</td>\n",
       "      <td>male</td>\n",
       "      <td>35.0</td>\n",
       "      <td>0</td>\n",
       "      <td>0</td>\n",
       "      <td>373450</td>\n",
       "      <td>8.0500</td>\n",
       "      <td>NaN</td>\n",
       "      <td>S</td>\n",
       "    </tr>\n",
       "  </tbody>\n",
       "</table>\n",
       "</div>"
      ],
      "text/plain": [
       "   PassengerId  Survived  Pclass  \\\n",
       "0            1         0       3   \n",
       "1            2         1       1   \n",
       "2            3         1       3   \n",
       "3            4         1       1   \n",
       "4            5         0       3   \n",
       "\n",
       "                                                Name     Sex   Age  SibSp  \\\n",
       "0                            Braund, Mr. Owen Harris    male  22.0      1   \n",
       "1  Cumings, Mrs. John Bradley (Florence Briggs Th...  female  38.0      1   \n",
       "2                             Heikkinen, Miss. Laina  female  26.0      0   \n",
       "3       Futrelle, Mrs. Jacques Heath (Lily May Peel)  female  35.0      1   \n",
       "4                           Allen, Mr. William Henry    male  35.0      0   \n",
       "\n",
       "   Parch            Ticket     Fare Cabin Embarked  \n",
       "0      0         A/5 21171   7.2500   NaN        S  \n",
       "1      0          PC 17599  71.2833   C85        C  \n",
       "2      0  STON/O2. 3101282   7.9250   NaN        S  \n",
       "3      0            113803  53.1000  C123        S  \n",
       "4      0            373450   8.0500   NaN        S  "
      ]
     },
     "execution_count": 1,
     "metadata": {},
     "output_type": "execute_result"
    }
   ],
   "source": [
    "import pandas as pd\n",
    "titanic = pd.read_csv('titanic-data.csv')\n",
    "titanic.head()"
   ]
  },
  {
   "cell_type": "markdown",
   "metadata": {},
   "source": [
    "The dataset consists of about 900 entries."
   ]
  },
  {
   "cell_type": "code",
   "execution_count": 2,
   "metadata": {},
   "outputs": [
    {
     "data": {
      "text/plain": [
       "891"
      ]
     },
     "execution_count": 2,
     "metadata": {},
     "output_type": "execute_result"
    }
   ],
   "source": [
    "len(titanic)"
   ]
  },
  {
   "cell_type": "markdown",
   "metadata": {},
   "source": [
    "The columns are encoded as follows:\n",
    "* `PassengerId` is a unique ID for each passenger,\n",
    "* `Survived` is a binary value encoding if the passenger survived (`1`) or died in the accident (`0`),\n",
    "* `Pclass` represents the ticket class in range `1..3`, with `1` representing 1st class, etc.,\n",
    "* `Name` gives the name of the passenger,\n",
    "* `Sex` the sex,\n",
    "* `Age` the age, with the value being fractional if less than `1.0` or estimated,\n",
    "* `SibSp` gives the number of siblings or spouses aboard the ship,\n",
    "* `Parch` gives the number of parents or children aboard the ship,\n",
    "* `Ticket` represents the ticket number,\n",
    "* `Fare` the passenger fare,\n",
    "* `Cabin` the cabin number, and\n",
    "* `Embarked` the port of embarkation, with `C` representing Cherbourg, `Q` for Queenstown and `S` for Southhampton.\n",
    "\n",
    "For `SibSp`, the definition of _sibling_ is brother, sister, stepbrother or stepsister, where _spouse_ means husband or wife, with mistresses and fiancés not being represented. \n",
    "For `Parch`, _parent_ means mother or father, where _child_ means daughter, son, stepdaughter or stepson. Children travelling only with a Nanny will thus have a value of `0` in this column.\n",
    "\n",
    "The value of `Pclass` can furthermore be taken as a proxy for the socio-economic status of the passenger, with a 1st class ticket (`1`) encoding upper class, whereas a 3rd class ticket (`3`) represents lower class status."
   ]
  },
  {
   "cell_type": "markdown",
   "metadata": {},
   "source": [
    "## Questions to be asked\n",
    "\n",
    "The obvious question for a ship accident is if [Women and children first](https://en.wikipedia.org/wiki/Women_and_children_first) indeed holds for the passenger of the Titanic. If so, we would expect to see a higher number of women and children having survived the accident than men. Additionally we might be interested in seeing if a higher social-economic status (or ticket class, for that matter), correlates with survivorship - and lastly, if there is a skew in the classes of children and women towards ticket class.\n",
    "The initial overview shows to cases of women names containing `Miss` or `Mrs.`, indicating marriage status. Maybe unmarried women were more likely to survive, because they were younger? Were they? Generally, does age correlate with survivorship?\n",
    "\n",
    "A somewhat silly, but similar question is if the Titanics captain, [Edward Smith](https://en.wikipedia.org/wiki/Edward_Smith_&#40;sea_captain&#41;), did sink with his ship, which can be easily determined if his name is represented in the list of \"passengers\". We do, however, already know from reports he was in the vicinity of, but not on the bridge five minutes before the ship disappered beneath the ocean and that his body was never discovered.\n",
    "\n",
    "The cabin number might correlate with survivorship, depending on where in the Titanic the cabin was located. This information might be even more helpful when correlated with knowledge about ongoing events aboard the ship and their locations. These questions, however, cannot be answered from this dataset alone. Since the accident happened at 23:40h ship time (UTC -3:27h), the assumption that people were in their cabins might hold, thus we might be able to correlate deck names or cabin numbers with survivorship.\n",
    "However, even if people made it to the lifeboats, survivorship should still be dependent on the time it took for rescue to arrive given the circumstances.\n",
    "\n",
    "The ticket number appears unlikely to be of use since it does not seem to be uniform. However, [this thread](https://www.kaggle.com/c/titanic/discussion/11127) suggests that identical ticket numbers can be used to determine shared cabin usage (for when no cabin information is present) or joint ticket usage.\n",
    "\n",
    "We might be able to find other relationships between survivorship and available variables by examining statistics conditioned on the recorded survivorship."
   ]
  },
  {
   "cell_type": "markdown",
   "metadata": {},
   "source": [
    "## Cabin allocations\n",
    "\n",
    "According to [Ecyclopedia Titanica](https://www.encyclopedia-titanica.org/cabins.html), the cabin allocations\n",
    "were obtained from an incomplete first class passenger list recovered with the body of one of the stewards, Herbert Cave. The first letter in the `Cabin` field encodes the deck, where `A` represents the topmost and `G` the bottommost deck. The complete deckplans can be found [here](https://www.encyclopedia-titanica.org/titanic-deckplans/).\n"
   ]
  },
  {
   "cell_type": "markdown",
   "metadata": {},
   "source": [
    "![](images/Titanic_cutaway_diagram.png)"
   ]
  },
  {
   "cell_type": "markdown",
   "metadata": {},
   "source": [
    "\n",
    "\n",
    "We know that the Titanic rammed the iceberg near the bow, which resulted in the ship sinking \"heads first\". From the deck plan it appears that most 1st class areas were assigned to the front half of the ship, which could imply that passengers assigned to cabins in these areas have a lower survivorship recorded.\n"
   ]
  },
  {
   "cell_type": "markdown",
   "metadata": {},
   "source": [
    "# Assessing data quality\n",
    "\n",
    "We first validate if the column data is actually in the format we expect."
   ]
  },
  {
   "cell_type": "markdown",
   "metadata": {},
   "source": [
    "### Survirorship\n",
    "\n",
    "There are indeed two distinct values for the `Survivor` column, so we change this column to be boolean."
   ]
  },
  {
   "cell_type": "code",
   "execution_count": 3,
   "metadata": {},
   "outputs": [
    {
     "data": {
      "text/plain": [
       "array([0, 1])"
      ]
     },
     "execution_count": 3,
     "metadata": {},
     "output_type": "execute_result"
    }
   ],
   "source": [
    "titanic['Survived'].unique()"
   ]
  },
  {
   "cell_type": "code",
   "execution_count": 4,
   "metadata": {},
   "outputs": [
    {
     "data": {
      "text/plain": [
       "[False, True]\n",
       "Categories (2, object): [False, True]"
      ]
     },
     "execution_count": 4,
     "metadata": {},
     "output_type": "execute_result"
    }
   ],
   "source": [
    "titanic['Survived'] = titanic['Survived'].astype(bool).astype('category')\n",
    "titanic['Survived'].unique()"
   ]
  },
  {
   "cell_type": "markdown",
   "metadata": {},
   "source": [
    "### Ticket class\n",
    "\n",
    "Similarly the ticket class contains only the expected values `1..3`. We turn it into a categorical variable as well."
   ]
  },
  {
   "cell_type": "code",
   "execution_count": 5,
   "metadata": {},
   "outputs": [
    {
     "data": {
      "text/plain": [
       "array([3, 1, 2])"
      ]
     },
     "execution_count": 5,
     "metadata": {},
     "output_type": "execute_result"
    }
   ],
   "source": [
    "titanic['Pclass'].unique()"
   ]
  },
  {
   "cell_type": "code",
   "execution_count": 6,
   "metadata": {},
   "outputs": [
    {
     "data": {
      "text/plain": [
       "[3, 1, 2]\n",
       "Categories (3, uint64): [3, 1, 2]"
      ]
     },
     "execution_count": 6,
     "metadata": {},
     "output_type": "execute_result"
    }
   ],
   "source": [
    "import numpy as np\n",
    "titanic['Pclass'] = titanic['Pclass'].astype(np.uint8).astype('category')\n",
    "titanic['Pclass'].unique()"
   ]
  },
  {
   "cell_type": "markdown",
   "metadata": {},
   "source": [
    "### Sex\n",
    "\n",
    "The passenger's sex does not show unexpected values and is converted to a categorical value."
   ]
  },
  {
   "cell_type": "code",
   "execution_count": 7,
   "metadata": {},
   "outputs": [
    {
     "data": {
      "text/plain": [
       "array(['male', 'female'], dtype=object)"
      ]
     },
     "execution_count": 7,
     "metadata": {},
     "output_type": "execute_result"
    }
   ],
   "source": [
    "titanic['Sex'].unique()"
   ]
  },
  {
   "cell_type": "code",
   "execution_count": 8,
   "metadata": {},
   "outputs": [
    {
     "data": {
      "text/plain": [
       "[male, female]\n",
       "Categories (2, object): [male, female]"
      ]
     },
     "execution_count": 8,
     "metadata": {},
     "output_type": "execute_result"
    }
   ],
   "source": [
    "import numpy as np\n",
    "titanic['Sex'] = titanic['Sex'].astype(str).astype('category')\n",
    "titanic['Sex'].unique()"
   ]
  },
  {
   "cell_type": "markdown",
   "metadata": {},
   "source": [
    "### Passenger name\n",
    "\n",
    "Out of curiosity, we check if the number of distinct passenger names is equal to the length of the list. That appears to be the case, so no (obvious) duplications exist in the dataset."
   ]
  },
  {
   "cell_type": "code",
   "execution_count": 9,
   "metadata": {},
   "outputs": [
    {
     "data": {
      "text/plain": [
       "0"
      ]
     },
     "execution_count": 9,
     "metadata": {},
     "output_type": "execute_result"
    }
   ],
   "source": [
    "len(titanic['Name'].unique()) - len(titanic['Name'])"
   ]
  },
  {
   "cell_type": "markdown",
   "metadata": {},
   "source": [
    "Let's check if captain Edward Smith appears in the dataset:"
   ]
  },
  {
   "cell_type": "code",
   "execution_count": 10,
   "metadata": {},
   "outputs": [
    {
     "data": {
      "text/html": [
       "<div>\n",
       "<style>\n",
       "    .dataframe thead tr:only-child th {\n",
       "        text-align: right;\n",
       "    }\n",
       "\n",
       "    .dataframe thead th {\n",
       "        text-align: left;\n",
       "    }\n",
       "\n",
       "    .dataframe tbody tr th {\n",
       "        vertical-align: top;\n",
       "    }\n",
       "</style>\n",
       "<table border=\"1\" class=\"dataframe\">\n",
       "  <thead>\n",
       "    <tr style=\"text-align: right;\">\n",
       "      <th></th>\n",
       "      <th>PassengerId</th>\n",
       "      <th>Survived</th>\n",
       "      <th>Pclass</th>\n",
       "      <th>Name</th>\n",
       "      <th>Sex</th>\n",
       "      <th>Age</th>\n",
       "      <th>SibSp</th>\n",
       "      <th>Parch</th>\n",
       "      <th>Ticket</th>\n",
       "      <th>Fare</th>\n",
       "      <th>Cabin</th>\n",
       "      <th>Embarked</th>\n",
       "    </tr>\n",
       "  </thead>\n",
       "  <tbody>\n",
       "    <tr>\n",
       "      <th>174</th>\n",
       "      <td>175</td>\n",
       "      <td>False</td>\n",
       "      <td>1</td>\n",
       "      <td>Smith, Mr. James Clinch</td>\n",
       "      <td>male</td>\n",
       "      <td>56.0</td>\n",
       "      <td>0</td>\n",
       "      <td>0</td>\n",
       "      <td>17764</td>\n",
       "      <td>30.6958</td>\n",
       "      <td>A7</td>\n",
       "      <td>C</td>\n",
       "    </tr>\n",
       "    <tr>\n",
       "      <th>260</th>\n",
       "      <td>261</td>\n",
       "      <td>False</td>\n",
       "      <td>3</td>\n",
       "      <td>Smith, Mr. Thomas</td>\n",
       "      <td>male</td>\n",
       "      <td>NaN</td>\n",
       "      <td>0</td>\n",
       "      <td>0</td>\n",
       "      <td>384461</td>\n",
       "      <td>7.7500</td>\n",
       "      <td>NaN</td>\n",
       "      <td>Q</td>\n",
       "    </tr>\n",
       "    <tr>\n",
       "      <th>284</th>\n",
       "      <td>285</td>\n",
       "      <td>False</td>\n",
       "      <td>1</td>\n",
       "      <td>Smith, Mr. Richard William</td>\n",
       "      <td>male</td>\n",
       "      <td>NaN</td>\n",
       "      <td>0</td>\n",
       "      <td>0</td>\n",
       "      <td>113056</td>\n",
       "      <td>26.0000</td>\n",
       "      <td>A19</td>\n",
       "      <td>S</td>\n",
       "    </tr>\n",
       "    <tr>\n",
       "      <th>346</th>\n",
       "      <td>347</td>\n",
       "      <td>True</td>\n",
       "      <td>2</td>\n",
       "      <td>Smith, Miss. Marion Elsie</td>\n",
       "      <td>female</td>\n",
       "      <td>40.0</td>\n",
       "      <td>0</td>\n",
       "      <td>0</td>\n",
       "      <td>31418</td>\n",
       "      <td>13.0000</td>\n",
       "      <td>NaN</td>\n",
       "      <td>S</td>\n",
       "    </tr>\n",
       "  </tbody>\n",
       "</table>\n",
       "</div>"
      ],
      "text/plain": [
       "     PassengerId Survived Pclass                        Name     Sex   Age  \\\n",
       "174          175    False      1     Smith, Mr. James Clinch    male  56.0   \n",
       "260          261    False      3           Smith, Mr. Thomas    male   NaN   \n",
       "284          285    False      1  Smith, Mr. Richard William    male   NaN   \n",
       "346          347     True      2   Smith, Miss. Marion Elsie  female  40.0   \n",
       "\n",
       "     SibSp  Parch  Ticket     Fare Cabin Embarked  \n",
       "174      0      0   17764  30.6958    A7        C  \n",
       "260      0      0  384461   7.7500   NaN        Q  \n",
       "284      0      0  113056  26.0000   A19        S  \n",
       "346      0      0   31418  13.0000   NaN        S  "
      ]
     },
     "execution_count": 10,
     "metadata": {},
     "output_type": "execute_result"
    }
   ],
   "source": [
    "titanic.loc[titanic['Name'].apply(lambda name: 'Smith' in name)]"
   ]
  },
  {
   "cell_type": "markdown",
   "metadata": {},
   "source": [
    "It turns out he doesn't (unless there is a typo in the name). Likewise, Herbert Cave, from whom the cabin assignment list was retrieved, does not appear in the dataset:"
   ]
  },
  {
   "cell_type": "code",
   "execution_count": 11,
   "metadata": {},
   "outputs": [
    {
     "data": {
      "text/html": [
       "<div>\n",
       "<style>\n",
       "    .dataframe thead tr:only-child th {\n",
       "        text-align: right;\n",
       "    }\n",
       "\n",
       "    .dataframe thead th {\n",
       "        text-align: left;\n",
       "    }\n",
       "\n",
       "    .dataframe tbody tr th {\n",
       "        vertical-align: top;\n",
       "    }\n",
       "</style>\n",
       "<table border=\"1\" class=\"dataframe\">\n",
       "  <thead>\n",
       "    <tr style=\"text-align: right;\">\n",
       "      <th></th>\n",
       "      <th>PassengerId</th>\n",
       "      <th>Survived</th>\n",
       "      <th>Pclass</th>\n",
       "      <th>Name</th>\n",
       "      <th>Sex</th>\n",
       "      <th>Age</th>\n",
       "      <th>SibSp</th>\n",
       "      <th>Parch</th>\n",
       "      <th>Ticket</th>\n",
       "      <th>Fare</th>\n",
       "      <th>Cabin</th>\n",
       "      <th>Embarked</th>\n",
       "    </tr>\n",
       "  </thead>\n",
       "  <tbody>\n",
       "    <tr>\n",
       "      <th>741</th>\n",
       "      <td>742</td>\n",
       "      <td>False</td>\n",
       "      <td>1</td>\n",
       "      <td>Cavendish, Mr. Tyrell William</td>\n",
       "      <td>male</td>\n",
       "      <td>36.0</td>\n",
       "      <td>1</td>\n",
       "      <td>0</td>\n",
       "      <td>19877</td>\n",
       "      <td>78.85</td>\n",
       "      <td>C46</td>\n",
       "      <td>S</td>\n",
       "    </tr>\n",
       "  </tbody>\n",
       "</table>\n",
       "</div>"
      ],
      "text/plain": [
       "     PassengerId Survived Pclass                           Name   Sex   Age  \\\n",
       "741          742    False      1  Cavendish, Mr. Tyrell William  male  36.0   \n",
       "\n",
       "     SibSp  Parch Ticket   Fare Cabin Embarked  \n",
       "741      1      0  19877  78.85   C46        S  "
      ]
     },
     "execution_count": 11,
     "metadata": {},
     "output_type": "execute_result"
    }
   ],
   "source": [
    "titanic.loc[titanic['Name'].apply(lambda name: 'Cave' in name)]"
   ]
  },
  {
   "cell_type": "markdown",
   "metadata": {},
   "source": [
    "This makes clear the dataset indeed only appears to represent _passengers_ aboard the Titanic, not every person."
   ]
  },
  {
   "cell_type": "markdown",
   "metadata": {},
   "source": [
    "Let's make sure every name field has exactly one comma in it by counting how many names cannot be split in exactly two groups:"
   ]
  },
  {
   "cell_type": "code",
   "execution_count": 12,
   "metadata": {},
   "outputs": [
    {
     "data": {
      "text/plain": [
       "0"
      ]
     },
     "execution_count": 12,
     "metadata": {},
     "output_type": "execute_result"
    }
   ],
   "source": [
    "len(titanic.loc[titanic['Name'].apply(lambda name: len(name.split(',')) != 2)])"
   ]
  },
  {
   "cell_type": "markdown",
   "metadata": {},
   "source": [
    "Since we know for sure we can split each name into exactly two values and the family name appears to be the first piece, let's split them:"
   ]
  },
  {
   "cell_type": "code",
   "execution_count": 13,
   "metadata": {},
   "outputs": [
    {
     "data": {
      "text/html": [
       "<div>\n",
       "<style>\n",
       "    .dataframe thead tr:only-child th {\n",
       "        text-align: right;\n",
       "    }\n",
       "\n",
       "    .dataframe thead th {\n",
       "        text-align: left;\n",
       "    }\n",
       "\n",
       "    .dataframe tbody tr th {\n",
       "        vertical-align: top;\n",
       "    }\n",
       "</style>\n",
       "<table border=\"1\" class=\"dataframe\">\n",
       "  <thead>\n",
       "    <tr style=\"text-align: right;\">\n",
       "      <th></th>\n",
       "      <th>PassengerId</th>\n",
       "      <th>Survived</th>\n",
       "      <th>Pclass</th>\n",
       "      <th>Sex</th>\n",
       "      <th>Age</th>\n",
       "      <th>SibSp</th>\n",
       "      <th>Parch</th>\n",
       "      <th>Ticket</th>\n",
       "      <th>Fare</th>\n",
       "      <th>Cabin</th>\n",
       "      <th>Embarked</th>\n",
       "      <th>LastName</th>\n",
       "      <th>FirstName</th>\n",
       "    </tr>\n",
       "  </thead>\n",
       "  <tbody>\n",
       "    <tr>\n",
       "      <th>0</th>\n",
       "      <td>1</td>\n",
       "      <td>False</td>\n",
       "      <td>3</td>\n",
       "      <td>male</td>\n",
       "      <td>22.0</td>\n",
       "      <td>1</td>\n",
       "      <td>0</td>\n",
       "      <td>A/5 21171</td>\n",
       "      <td>7.2500</td>\n",
       "      <td>NaN</td>\n",
       "      <td>S</td>\n",
       "      <td>Braund</td>\n",
       "      <td>Mr. Owen Harris</td>\n",
       "    </tr>\n",
       "    <tr>\n",
       "      <th>1</th>\n",
       "      <td>2</td>\n",
       "      <td>True</td>\n",
       "      <td>1</td>\n",
       "      <td>female</td>\n",
       "      <td>38.0</td>\n",
       "      <td>1</td>\n",
       "      <td>0</td>\n",
       "      <td>PC 17599</td>\n",
       "      <td>71.2833</td>\n",
       "      <td>C85</td>\n",
       "      <td>C</td>\n",
       "      <td>Cumings</td>\n",
       "      <td>Mrs. John Bradley (Florence Briggs Thayer)</td>\n",
       "    </tr>\n",
       "    <tr>\n",
       "      <th>2</th>\n",
       "      <td>3</td>\n",
       "      <td>True</td>\n",
       "      <td>3</td>\n",
       "      <td>female</td>\n",
       "      <td>26.0</td>\n",
       "      <td>0</td>\n",
       "      <td>0</td>\n",
       "      <td>STON/O2. 3101282</td>\n",
       "      <td>7.9250</td>\n",
       "      <td>NaN</td>\n",
       "      <td>S</td>\n",
       "      <td>Heikkinen</td>\n",
       "      <td>Miss. Laina</td>\n",
       "    </tr>\n",
       "    <tr>\n",
       "      <th>3</th>\n",
       "      <td>4</td>\n",
       "      <td>True</td>\n",
       "      <td>1</td>\n",
       "      <td>female</td>\n",
       "      <td>35.0</td>\n",
       "      <td>1</td>\n",
       "      <td>0</td>\n",
       "      <td>113803</td>\n",
       "      <td>53.1000</td>\n",
       "      <td>C123</td>\n",
       "      <td>S</td>\n",
       "      <td>Futrelle</td>\n",
       "      <td>Mrs. Jacques Heath (Lily May Peel)</td>\n",
       "    </tr>\n",
       "    <tr>\n",
       "      <th>4</th>\n",
       "      <td>5</td>\n",
       "      <td>False</td>\n",
       "      <td>3</td>\n",
       "      <td>male</td>\n",
       "      <td>35.0</td>\n",
       "      <td>0</td>\n",
       "      <td>0</td>\n",
       "      <td>373450</td>\n",
       "      <td>8.0500</td>\n",
       "      <td>NaN</td>\n",
       "      <td>S</td>\n",
       "      <td>Allen</td>\n",
       "      <td>Mr. William Henry</td>\n",
       "    </tr>\n",
       "  </tbody>\n",
       "</table>\n",
       "</div>"
      ],
      "text/plain": [
       "   PassengerId Survived Pclass     Sex   Age  SibSp  Parch            Ticket  \\\n",
       "0            1    False      3    male  22.0      1      0         A/5 21171   \n",
       "1            2     True      1  female  38.0      1      0          PC 17599   \n",
       "2            3     True      3  female  26.0      0      0  STON/O2. 3101282   \n",
       "3            4     True      1  female  35.0      1      0            113803   \n",
       "4            5    False      3    male  35.0      0      0            373450   \n",
       "\n",
       "      Fare Cabin Embarked   LastName  \\\n",
       "0   7.2500   NaN        S     Braund   \n",
       "1  71.2833   C85        C    Cumings   \n",
       "2   7.9250   NaN        S  Heikkinen   \n",
       "3  53.1000  C123        S   Futrelle   \n",
       "4   8.0500   NaN        S      Allen   \n",
       "\n",
       "                                    FirstName  \n",
       "0                             Mr. Owen Harris  \n",
       "1  Mrs. John Bradley (Florence Briggs Thayer)  \n",
       "2                                 Miss. Laina  \n",
       "3          Mrs. Jacques Heath (Lily May Peel)  \n",
       "4                           Mr. William Henry  "
      ]
     },
     "execution_count": 13,
     "metadata": {},
     "output_type": "execute_result"
    }
   ],
   "source": [
    "titanic['LastName'] = titanic['Name'].apply(lambda name: name.split(',')[0].strip())\n",
    "titanic['FirstName'] = titanic['Name'].apply(lambda name: name.split(',')[1].strip())\n",
    "del titanic['Name']\n",
    "\n",
    "titanic.head()"
   ]
  },
  {
   "cell_type": "markdown",
   "metadata": {},
   "source": [
    "While we're at it, let's also look at the _Mrs._, _Miss_ and _Ms._ indictors:"
   ]
  },
  {
   "cell_type": "code",
   "execution_count": 14,
   "metadata": {},
   "outputs": [
    {
     "data": {
      "text/plain": [
       "Miss.    182\n",
       "Mrs.     125\n",
       "Mlle.      2\n",
       "the        1\n",
       "Ms.        1\n",
       "Lady.      1\n",
       "Dr.        1\n",
       "Mme.       1\n",
       "Name: FirstName, dtype: int64"
      ]
     },
     "execution_count": 14,
     "metadata": {},
     "output_type": "execute_result"
    }
   ],
   "source": [
    "titanic[titanic['Sex'] == 'female']['FirstName'].apply(lambda name: name.split()[0]).value_counts()"
   ]
  },
  {
   "cell_type": "markdown",
   "metadata": {},
   "source": [
    "It appears there are the representations [_Miss._](https://en.wikipedia.org/wiki/Miss) and [_Mlle._](https://en.wikipedia.org/wiki/Mademoiselle_&#40;title&#41;) for unmarried women, as well as [_Mrs._](https://en.wikipedia.org/wiki/Mrs.) and _Mme._ for married women. _Ms._ is no clear indicator and the cases `Lady.`, `the` and `Dr.` would require to be investigated further. Since each of these only occurs once, we decide to simply drop these values."
   ]
  },
  {
   "cell_type": "code",
   "execution_count": 15,
   "metadata": {},
   "outputs": [
    {
     "data": {
      "text/html": [
       "<div>\n",
       "<style>\n",
       "    .dataframe thead tr:only-child th {\n",
       "        text-align: right;\n",
       "    }\n",
       "\n",
       "    .dataframe thead th {\n",
       "        text-align: left;\n",
       "    }\n",
       "\n",
       "    .dataframe tbody tr th {\n",
       "        vertical-align: top;\n",
       "    }\n",
       "</style>\n",
       "<table border=\"1\" class=\"dataframe\">\n",
       "  <thead>\n",
       "    <tr style=\"text-align: right;\">\n",
       "      <th></th>\n",
       "      <th>PassengerId</th>\n",
       "      <th>Survived</th>\n",
       "      <th>Pclass</th>\n",
       "      <th>Sex</th>\n",
       "      <th>Age</th>\n",
       "      <th>SibSp</th>\n",
       "      <th>Parch</th>\n",
       "      <th>Ticket</th>\n",
       "      <th>Fare</th>\n",
       "      <th>Cabin</th>\n",
       "      <th>Embarked</th>\n",
       "      <th>LastName</th>\n",
       "      <th>FirstName</th>\n",
       "      <th>MarriedWoman</th>\n",
       "    </tr>\n",
       "  </thead>\n",
       "  <tbody>\n",
       "    <tr>\n",
       "      <th>0</th>\n",
       "      <td>1</td>\n",
       "      <td>False</td>\n",
       "      <td>3</td>\n",
       "      <td>male</td>\n",
       "      <td>22.0</td>\n",
       "      <td>1</td>\n",
       "      <td>0</td>\n",
       "      <td>A/5 21171</td>\n",
       "      <td>7.2500</td>\n",
       "      <td>NaN</td>\n",
       "      <td>S</td>\n",
       "      <td>Braund</td>\n",
       "      <td>Mr. Owen Harris</td>\n",
       "      <td>NaN</td>\n",
       "    </tr>\n",
       "    <tr>\n",
       "      <th>1</th>\n",
       "      <td>2</td>\n",
       "      <td>True</td>\n",
       "      <td>1</td>\n",
       "      <td>female</td>\n",
       "      <td>38.0</td>\n",
       "      <td>1</td>\n",
       "      <td>0</td>\n",
       "      <td>PC 17599</td>\n",
       "      <td>71.2833</td>\n",
       "      <td>C85</td>\n",
       "      <td>C</td>\n",
       "      <td>Cumings</td>\n",
       "      <td>Mrs. John Bradley (Florence Briggs Thayer)</td>\n",
       "      <td>True</td>\n",
       "    </tr>\n",
       "    <tr>\n",
       "      <th>2</th>\n",
       "      <td>3</td>\n",
       "      <td>True</td>\n",
       "      <td>3</td>\n",
       "      <td>female</td>\n",
       "      <td>26.0</td>\n",
       "      <td>0</td>\n",
       "      <td>0</td>\n",
       "      <td>STON/O2. 3101282</td>\n",
       "      <td>7.9250</td>\n",
       "      <td>NaN</td>\n",
       "      <td>S</td>\n",
       "      <td>Heikkinen</td>\n",
       "      <td>Miss. Laina</td>\n",
       "      <td>False</td>\n",
       "    </tr>\n",
       "    <tr>\n",
       "      <th>3</th>\n",
       "      <td>4</td>\n",
       "      <td>True</td>\n",
       "      <td>1</td>\n",
       "      <td>female</td>\n",
       "      <td>35.0</td>\n",
       "      <td>1</td>\n",
       "      <td>0</td>\n",
       "      <td>113803</td>\n",
       "      <td>53.1000</td>\n",
       "      <td>C123</td>\n",
       "      <td>S</td>\n",
       "      <td>Futrelle</td>\n",
       "      <td>Mrs. Jacques Heath (Lily May Peel)</td>\n",
       "      <td>True</td>\n",
       "    </tr>\n",
       "    <tr>\n",
       "      <th>4</th>\n",
       "      <td>5</td>\n",
       "      <td>False</td>\n",
       "      <td>3</td>\n",
       "      <td>male</td>\n",
       "      <td>35.0</td>\n",
       "      <td>0</td>\n",
       "      <td>0</td>\n",
       "      <td>373450</td>\n",
       "      <td>8.0500</td>\n",
       "      <td>NaN</td>\n",
       "      <td>S</td>\n",
       "      <td>Allen</td>\n",
       "      <td>Mr. William Henry</td>\n",
       "      <td>NaN</td>\n",
       "    </tr>\n",
       "  </tbody>\n",
       "</table>\n",
       "</div>"
      ],
      "text/plain": [
       "   PassengerId Survived Pclass     Sex   Age  SibSp  Parch            Ticket  \\\n",
       "0            1    False      3    male  22.0      1      0         A/5 21171   \n",
       "1            2     True      1  female  38.0      1      0          PC 17599   \n",
       "2            3     True      3  female  26.0      0      0  STON/O2. 3101282   \n",
       "3            4     True      1  female  35.0      1      0            113803   \n",
       "4            5    False      3    male  35.0      0      0            373450   \n",
       "\n",
       "      Fare Cabin Embarked   LastName  \\\n",
       "0   7.2500   NaN        S     Braund   \n",
       "1  71.2833   C85        C    Cumings   \n",
       "2   7.9250   NaN        S  Heikkinen   \n",
       "3  53.1000  C123        S   Futrelle   \n",
       "4   8.0500   NaN        S      Allen   \n",
       "\n",
       "                                    FirstName MarriedWoman  \n",
       "0                             Mr. Owen Harris          NaN  \n",
       "1  Mrs. John Bradley (Florence Briggs Thayer)         True  \n",
       "2                                 Miss. Laina        False  \n",
       "3          Mrs. Jacques Heath (Lily May Peel)         True  \n",
       "4                           Mr. William Henry          NaN  "
      ]
     },
     "execution_count": 15,
     "metadata": {},
     "output_type": "execute_result"
    }
   ],
   "source": [
    "def woman_marriage_status(name):\n",
    "    if 'Miss.' in name or 'Mlle.' in name:\n",
    "        return False\n",
    "    if 'Mrs.' in name or 'Mme.' in name:\n",
    "        return True\n",
    "    return float('NaN')\n",
    "\n",
    "titanic['MarriedWoman'] = titanic['FirstName'].apply(woman_marriage_status)\n",
    "titanic.head()"
   ]
  },
  {
   "cell_type": "markdown",
   "metadata": {},
   "source": [
    "### Age\n",
    "\n",
    "All of the values in the list appear to be convertible to `float`, which also includes `NaN` values."
   ]
  },
  {
   "cell_type": "code",
   "execution_count": 16,
   "metadata": {
    "collapsed": true
   },
   "outputs": [],
   "source": [
    "import math\n",
    "def is_valid_float(value, allow_nan=False):\n",
    "  try:\n",
    "    f = float(value)\n",
    "    return allow_nan or not math.isnan(f)\n",
    "  except ValueError:\n",
    "    return False"
   ]
  },
  {
   "cell_type": "code",
   "execution_count": 17,
   "metadata": {},
   "outputs": [
    {
     "data": {
      "text/plain": [
       "array([ True], dtype=bool)"
      ]
     },
     "execution_count": 17,
     "metadata": {},
     "output_type": "execute_result"
    }
   ],
   "source": [
    "titanic['Age'].apply(lambda x: is_valid_float(x, allow_nan=True)).unique()"
   ]
  },
  {
   "cell_type": "markdown",
   "metadata": {},
   "source": [
    "There are `714` passengers who do have a recorded age and `177` passengers for which no age information is present."
   ]
  },
  {
   "cell_type": "code",
   "execution_count": 18,
   "metadata": {},
   "outputs": [
    {
     "data": {
      "text/plain": [
       "True     714\n",
       "False    177\n",
       "Name: Age, dtype: int64"
      ]
     },
     "execution_count": 18,
     "metadata": {},
     "output_type": "execute_result"
    }
   ],
   "source": [
    "titanic['Age'].apply(lambda x: is_valid_float(x, allow_nan=False)).value_counts()"
   ]
  },
  {
   "cell_type": "code",
   "execution_count": 19,
   "metadata": {},
   "outputs": [
    {
     "data": {
      "text/plain": [
       "count    714.000000\n",
       "mean      29.699118\n",
       "std       14.526497\n",
       "min        0.420000\n",
       "25%       20.125000\n",
       "50%       28.000000\n",
       "75%       38.000000\n",
       "max       80.000000\n",
       "Name: Age, dtype: float64"
      ]
     },
     "execution_count": 19,
     "metadata": {},
     "output_type": "execute_result"
    }
   ],
   "source": [
    "titanic['Age'].describe()"
   ]
  },
  {
   "cell_type": "markdown",
   "metadata": {},
   "source": [
    "### Siblings and spouses\n",
    "\n",
    "No unexpected data is in the `SibSp` column."
   ]
  },
  {
   "cell_type": "code",
   "execution_count": 20,
   "metadata": {},
   "outputs": [
    {
     "data": {
      "text/plain": [
       "array([1, 0, 3, 4, 2, 5, 8])"
      ]
     },
     "execution_count": 20,
     "metadata": {},
     "output_type": "execute_result"
    }
   ],
   "source": [
    "titanic['SibSp'].unique()"
   ]
  },
  {
   "cell_type": "code",
   "execution_count": 21,
   "metadata": {},
   "outputs": [
    {
     "data": {
      "text/plain": [
       "count    891.000000\n",
       "mean       0.523008\n",
       "std        1.102743\n",
       "min        0.000000\n",
       "25%        0.000000\n",
       "50%        0.000000\n",
       "75%        1.000000\n",
       "max        8.000000\n",
       "Name: SibSp, dtype: float64"
      ]
     },
     "execution_count": 21,
     "metadata": {},
     "output_type": "execute_result"
    }
   ],
   "source": [
    "titanic['SibSp'].describe()"
   ]
  },
  {
   "cell_type": "markdown",
   "metadata": {},
   "source": [
    "### Parents and children\n",
    "\n",
    "Same goes for the `Parch` column."
   ]
  },
  {
   "cell_type": "code",
   "execution_count": 22,
   "metadata": {},
   "outputs": [
    {
     "data": {
      "text/plain": [
       "array([0, 1, 2, 5, 3, 4, 6])"
      ]
     },
     "execution_count": 22,
     "metadata": {},
     "output_type": "execute_result"
    }
   ],
   "source": [
    "titanic['Parch'].unique()"
   ]
  },
  {
   "cell_type": "code",
   "execution_count": 23,
   "metadata": {},
   "outputs": [
    {
     "data": {
      "text/plain": [
       "count    891.000000\n",
       "mean       0.381594\n",
       "std        0.806057\n",
       "min        0.000000\n",
       "25%        0.000000\n",
       "50%        0.000000\n",
       "75%        0.000000\n",
       "max        6.000000\n",
       "Name: Parch, dtype: float64"
      ]
     },
     "execution_count": 23,
     "metadata": {},
     "output_type": "execute_result"
    }
   ],
   "source": [
    "titanic['Parch'].describe()"
   ]
  },
  {
   "cell_type": "markdown",
   "metadata": {},
   "source": [
    "### Ticket\n",
    "\n",
    "Let's have a look at the structure of the `Ticket` column:"
   ]
  },
  {
   "cell_type": "code",
   "execution_count": 24,
   "metadata": {},
   "outputs": [
    {
     "data": {
      "text/plain": [
       "0           A/5 21171\n",
       "1            PC 17599\n",
       "2    STON/O2. 3101282\n",
       "3              113803\n",
       "4              373450\n",
       "Name: Ticket, dtype: object"
      ]
     },
     "execution_count": 24,
     "metadata": {},
     "output_type": "execute_result"
    }
   ],
   "source": [
    "titanic['Ticket'].head()"
   ]
  },
  {
   "cell_type": "markdown",
   "metadata": {},
   "source": [
    "It appears that we might be able to split the ticket number into an optional prefix and a numerical value. Let's see if this assumption holds:"
   ]
  },
  {
   "cell_type": "code",
   "execution_count": 25,
   "metadata": {},
   "outputs": [
    {
     "data": {
      "text/plain": [
       "1    665\n",
       "2    213\n",
       "3     13\n",
       "Name: Ticket, dtype: int64"
      ]
     },
     "execution_count": 25,
     "metadata": {},
     "output_type": "execute_result"
    }
   ],
   "source": [
    "titanic['Ticket'].apply(lambda x: len(x.split())).value_counts()"
   ]
  },
  {
   "cell_type": "markdown",
   "metadata": {},
   "source": [
    "Apparently there are 13 ticket numbers that have more than two fields. Let's look them up:"
   ]
  },
  {
   "cell_type": "code",
   "execution_count": 26,
   "metadata": {},
   "outputs": [
    {
     "data": {
      "text/html": [
       "<div>\n",
       "<style>\n",
       "    .dataframe thead tr:only-child th {\n",
       "        text-align: right;\n",
       "    }\n",
       "\n",
       "    .dataframe thead th {\n",
       "        text-align: left;\n",
       "    }\n",
       "\n",
       "    .dataframe tbody tr th {\n",
       "        vertical-align: top;\n",
       "    }\n",
       "</style>\n",
       "<table border=\"1\" class=\"dataframe\">\n",
       "  <thead>\n",
       "    <tr style=\"text-align: right;\">\n",
       "      <th></th>\n",
       "      <th>PassengerId</th>\n",
       "      <th>Sex</th>\n",
       "      <th>Ticket</th>\n",
       "      <th>Fare</th>\n",
       "      <th>Embarked</th>\n",
       "      <th>LastName</th>\n",
       "      <th>FirstName</th>\n",
       "    </tr>\n",
       "  </thead>\n",
       "  <tbody>\n",
       "    <tr>\n",
       "      <th>473</th>\n",
       "      <td>474</td>\n",
       "      <td>female</td>\n",
       "      <td>SC/AH Basle 541</td>\n",
       "      <td>13.7917</td>\n",
       "      <td>C</td>\n",
       "      <td>Jerwan</td>\n",
       "      <td>Mrs. Amin S (Marie Marthe Thuillard)</td>\n",
       "    </tr>\n",
       "    <tr>\n",
       "      <th>414</th>\n",
       "      <td>415</td>\n",
       "      <td>male</td>\n",
       "      <td>STON/O 2. 3101269</td>\n",
       "      <td>7.9250</td>\n",
       "      <td>S</td>\n",
       "      <td>Sundman</td>\n",
       "      <td>Mr. Johan Julian</td>\n",
       "    </tr>\n",
       "    <tr>\n",
       "      <th>590</th>\n",
       "      <td>591</td>\n",
       "      <td>male</td>\n",
       "      <td>STON/O 2. 3101273</td>\n",
       "      <td>7.1250</td>\n",
       "      <td>S</td>\n",
       "      <td>Rintamaki</td>\n",
       "      <td>Mr. Matti</td>\n",
       "    </tr>\n",
       "    <tr>\n",
       "      <th>433</th>\n",
       "      <td>434</td>\n",
       "      <td>male</td>\n",
       "      <td>STON/O 2. 3101274</td>\n",
       "      <td>7.1250</td>\n",
       "      <td>S</td>\n",
       "      <td>Kallio</td>\n",
       "      <td>Mr. Nikolai Erland</td>\n",
       "    </tr>\n",
       "    <tr>\n",
       "      <th>243</th>\n",
       "      <td>244</td>\n",
       "      <td>male</td>\n",
       "      <td>STON/O 2. 3101275</td>\n",
       "      <td>7.1250</td>\n",
       "      <td>S</td>\n",
       "      <td>Maenpaa</td>\n",
       "      <td>Mr. Matti Alexanteri</td>\n",
       "    </tr>\n",
       "    <tr>\n",
       "      <th>173</th>\n",
       "      <td>174</td>\n",
       "      <td>male</td>\n",
       "      <td>STON/O 2. 3101280</td>\n",
       "      <td>7.9250</td>\n",
       "      <td>S</td>\n",
       "      <td>Sivola</td>\n",
       "      <td>Mr. Antti Wilhelm</td>\n",
       "    </tr>\n",
       "    <tr>\n",
       "      <th>664</th>\n",
       "      <td>665</td>\n",
       "      <td>male</td>\n",
       "      <td>STON/O 2. 3101285</td>\n",
       "      <td>7.9250</td>\n",
       "      <td>S</td>\n",
       "      <td>Lindqvist</td>\n",
       "      <td>Mr. Eino William</td>\n",
       "    </tr>\n",
       "    <tr>\n",
       "      <th>579</th>\n",
       "      <td>580</td>\n",
       "      <td>male</td>\n",
       "      <td>STON/O 2. 3101286</td>\n",
       "      <td>7.9250</td>\n",
       "      <td>S</td>\n",
       "      <td>Jussila</td>\n",
       "      <td>Mr. Eiriik</td>\n",
       "    </tr>\n",
       "    <tr>\n",
       "      <th>744</th>\n",
       "      <td>745</td>\n",
       "      <td>male</td>\n",
       "      <td>STON/O 2. 3101288</td>\n",
       "      <td>7.9250</td>\n",
       "      <td>S</td>\n",
       "      <td>Stranden</td>\n",
       "      <td>Mr. Juho</td>\n",
       "    </tr>\n",
       "    <tr>\n",
       "      <th>400</th>\n",
       "      <td>401</td>\n",
       "      <td>male</td>\n",
       "      <td>STON/O 2. 3101289</td>\n",
       "      <td>7.9250</td>\n",
       "      <td>S</td>\n",
       "      <td>Niskanen</td>\n",
       "      <td>Mr. Juha</td>\n",
       "    </tr>\n",
       "    <tr>\n",
       "      <th>636</th>\n",
       "      <td>637</td>\n",
       "      <td>male</td>\n",
       "      <td>STON/O 2. 3101292</td>\n",
       "      <td>7.9250</td>\n",
       "      <td>S</td>\n",
       "      <td>Leinonen</td>\n",
       "      <td>Mr. Antti Gustaf</td>\n",
       "    </tr>\n",
       "    <tr>\n",
       "      <th>382</th>\n",
       "      <td>383</td>\n",
       "      <td>male</td>\n",
       "      <td>STON/O 2. 3101293</td>\n",
       "      <td>7.9250</td>\n",
       "      <td>S</td>\n",
       "      <td>Tikkanen</td>\n",
       "      <td>Mr. Juho</td>\n",
       "    </tr>\n",
       "    <tr>\n",
       "      <th>115</th>\n",
       "      <td>116</td>\n",
       "      <td>male</td>\n",
       "      <td>STON/O 2. 3101294</td>\n",
       "      <td>7.9250</td>\n",
       "      <td>S</td>\n",
       "      <td>Pekoniemi</td>\n",
       "      <td>Mr. Edvard</td>\n",
       "    </tr>\n",
       "  </tbody>\n",
       "</table>\n",
       "</div>"
      ],
      "text/plain": [
       "     PassengerId     Sex             Ticket     Fare Embarked   LastName  \\\n",
       "473          474  female    SC/AH Basle 541  13.7917        C     Jerwan   \n",
       "414          415    male  STON/O 2. 3101269   7.9250        S    Sundman   \n",
       "590          591    male  STON/O 2. 3101273   7.1250        S  Rintamaki   \n",
       "433          434    male  STON/O 2. 3101274   7.1250        S     Kallio   \n",
       "243          244    male  STON/O 2. 3101275   7.1250        S    Maenpaa   \n",
       "173          174    male  STON/O 2. 3101280   7.9250        S     Sivola   \n",
       "664          665    male  STON/O 2. 3101285   7.9250        S  Lindqvist   \n",
       "579          580    male  STON/O 2. 3101286   7.9250        S    Jussila   \n",
       "744          745    male  STON/O 2. 3101288   7.9250        S   Stranden   \n",
       "400          401    male  STON/O 2. 3101289   7.9250        S   Niskanen   \n",
       "636          637    male  STON/O 2. 3101292   7.9250        S   Leinonen   \n",
       "382          383    male  STON/O 2. 3101293   7.9250        S   Tikkanen   \n",
       "115          116    male  STON/O 2. 3101294   7.9250        S  Pekoniemi   \n",
       "\n",
       "                                FirstName  \n",
       "473  Mrs. Amin S (Marie Marthe Thuillard)  \n",
       "414                      Mr. Johan Julian  \n",
       "590                             Mr. Matti  \n",
       "433                    Mr. Nikolai Erland  \n",
       "243                  Mr. Matti Alexanteri  \n",
       "173                     Mr. Antti Wilhelm  \n",
       "664                      Mr. Eino William  \n",
       "579                            Mr. Eiriik  \n",
       "744                              Mr. Juho  \n",
       "400                              Mr. Juha  \n",
       "636                      Mr. Antti Gustaf  \n",
       "382                              Mr. Juho  \n",
       "115                            Mr. Edvard  "
      ]
     },
     "execution_count": 26,
     "metadata": {},
     "output_type": "execute_result"
    }
   ],
   "source": [
    "show = ['PassengerId', 'Sex', 'Ticket', 'Fare', 'Embarked', 'LastName', 'FirstName']\n",
    "\n",
    "splits = titanic['Ticket'].apply(lambda x: len(x.split()))\n",
    "titanic[splits == 3].sort_values('Ticket')[show]"
   ]
  },
  {
   "cell_type": "markdown",
   "metadata": {},
   "source": [
    "According to [this report](https://www.encyclopedia-titanica.org/titanic-survivor/marie-marthe-jerwan.html), Mrs. Marie Jerwan had ticket number `541`. Similarly, [Mr. Eiriik Jussilas](https://www.encyclopedia-titanica.org/titanic-survivor/eiriik-jussila.html) ticket number is reported as `3101286`. We can thus assume that only the last split encodes the actual ticket number, with everything else being a prefix."
   ]
  },
  {
   "cell_type": "code",
   "execution_count": 27,
   "metadata": {},
   "outputs": [
    {
     "data": {
      "text/html": [
       "<div>\n",
       "<style>\n",
       "    .dataframe thead tr:only-child th {\n",
       "        text-align: right;\n",
       "    }\n",
       "\n",
       "    .dataframe thead th {\n",
       "        text-align: left;\n",
       "    }\n",
       "\n",
       "    .dataframe tbody tr th {\n",
       "        vertical-align: top;\n",
       "    }\n",
       "</style>\n",
       "<table border=\"1\" class=\"dataframe\">\n",
       "  <thead>\n",
       "    <tr style=\"text-align: right;\">\n",
       "      <th></th>\n",
       "      <th>PassengerId</th>\n",
       "      <th>Survived</th>\n",
       "      <th>Pclass</th>\n",
       "      <th>Sex</th>\n",
       "      <th>Age</th>\n",
       "      <th>SibSp</th>\n",
       "      <th>Parch</th>\n",
       "      <th>Fare</th>\n",
       "      <th>Cabin</th>\n",
       "      <th>Embarked</th>\n",
       "      <th>LastName</th>\n",
       "      <th>FirstName</th>\n",
       "      <th>MarriedWoman</th>\n",
       "      <th>TicketNumber</th>\n",
       "      <th>TicketPrefix</th>\n",
       "    </tr>\n",
       "  </thead>\n",
       "  <tbody>\n",
       "    <tr>\n",
       "      <th>0</th>\n",
       "      <td>1</td>\n",
       "      <td>False</td>\n",
       "      <td>3</td>\n",
       "      <td>male</td>\n",
       "      <td>22.0</td>\n",
       "      <td>1</td>\n",
       "      <td>0</td>\n",
       "      <td>7.2500</td>\n",
       "      <td>NaN</td>\n",
       "      <td>S</td>\n",
       "      <td>Braund</td>\n",
       "      <td>Mr. Owen Harris</td>\n",
       "      <td>NaN</td>\n",
       "      <td>21171</td>\n",
       "      <td>A/5</td>\n",
       "    </tr>\n",
       "    <tr>\n",
       "      <th>1</th>\n",
       "      <td>2</td>\n",
       "      <td>True</td>\n",
       "      <td>1</td>\n",
       "      <td>female</td>\n",
       "      <td>38.0</td>\n",
       "      <td>1</td>\n",
       "      <td>0</td>\n",
       "      <td>71.2833</td>\n",
       "      <td>C85</td>\n",
       "      <td>C</td>\n",
       "      <td>Cumings</td>\n",
       "      <td>Mrs. John Bradley (Florence Briggs Thayer)</td>\n",
       "      <td>True</td>\n",
       "      <td>17599</td>\n",
       "      <td>PC</td>\n",
       "    </tr>\n",
       "    <tr>\n",
       "      <th>2</th>\n",
       "      <td>3</td>\n",
       "      <td>True</td>\n",
       "      <td>3</td>\n",
       "      <td>female</td>\n",
       "      <td>26.0</td>\n",
       "      <td>0</td>\n",
       "      <td>0</td>\n",
       "      <td>7.9250</td>\n",
       "      <td>NaN</td>\n",
       "      <td>S</td>\n",
       "      <td>Heikkinen</td>\n",
       "      <td>Miss. Laina</td>\n",
       "      <td>False</td>\n",
       "      <td>3101282</td>\n",
       "      <td>STON/O2.</td>\n",
       "    </tr>\n",
       "    <tr>\n",
       "      <th>3</th>\n",
       "      <td>4</td>\n",
       "      <td>True</td>\n",
       "      <td>1</td>\n",
       "      <td>female</td>\n",
       "      <td>35.0</td>\n",
       "      <td>1</td>\n",
       "      <td>0</td>\n",
       "      <td>53.1000</td>\n",
       "      <td>C123</td>\n",
       "      <td>S</td>\n",
       "      <td>Futrelle</td>\n",
       "      <td>Mrs. Jacques Heath (Lily May Peel)</td>\n",
       "      <td>True</td>\n",
       "      <td>113803</td>\n",
       "      <td></td>\n",
       "    </tr>\n",
       "    <tr>\n",
       "      <th>4</th>\n",
       "      <td>5</td>\n",
       "      <td>False</td>\n",
       "      <td>3</td>\n",
       "      <td>male</td>\n",
       "      <td>35.0</td>\n",
       "      <td>0</td>\n",
       "      <td>0</td>\n",
       "      <td>8.0500</td>\n",
       "      <td>NaN</td>\n",
       "      <td>S</td>\n",
       "      <td>Allen</td>\n",
       "      <td>Mr. William Henry</td>\n",
       "      <td>NaN</td>\n",
       "      <td>373450</td>\n",
       "      <td></td>\n",
       "    </tr>\n",
       "  </tbody>\n",
       "</table>\n",
       "</div>"
      ],
      "text/plain": [
       "   PassengerId Survived Pclass     Sex   Age  SibSp  Parch     Fare Cabin  \\\n",
       "0            1    False      3    male  22.0      1      0   7.2500   NaN   \n",
       "1            2     True      1  female  38.0      1      0  71.2833   C85   \n",
       "2            3     True      3  female  26.0      0      0   7.9250   NaN   \n",
       "3            4     True      1  female  35.0      1      0  53.1000  C123   \n",
       "4            5    False      3    male  35.0      0      0   8.0500   NaN   \n",
       "\n",
       "  Embarked   LastName                                   FirstName  \\\n",
       "0        S     Braund                             Mr. Owen Harris   \n",
       "1        C    Cumings  Mrs. John Bradley (Florence Briggs Thayer)   \n",
       "2        S  Heikkinen                                 Miss. Laina   \n",
       "3        S   Futrelle          Mrs. Jacques Heath (Lily May Peel)   \n",
       "4        S      Allen                           Mr. William Henry   \n",
       "\n",
       "  MarriedWoman TicketNumber TicketPrefix  \n",
       "0          NaN        21171          A/5  \n",
       "1         True        17599           PC  \n",
       "2        False      3101282     STON/O2.  \n",
       "3         True       113803               \n",
       "4          NaN       373450               "
      ]
     },
     "execution_count": 27,
     "metadata": {},
     "output_type": "execute_result"
    }
   ],
   "source": [
    "titanic['TicketNumber'] = titanic['Ticket'].apply(lambda x: x.split()[-1].strip())\n",
    "titanic['TicketPrefix'] = titanic['Ticket'].apply(lambda x: ' '.join(x.split()[:-1]).strip()).astype('category')\n",
    "del titanic['Ticket']\n",
    "titanic.head()"
   ]
  },
  {
   "cell_type": "markdown",
   "metadata": {},
   "source": [
    "A check on the extracted ticket numbers shows that not all values are indeed numerical:"
   ]
  },
  {
   "cell_type": "code",
   "execution_count": 28,
   "metadata": {},
   "outputs": [
    {
     "data": {
      "text/plain": [
       "True     887\n",
       "False      4\n",
       "Name: TicketNumber, dtype: int64"
      ]
     },
     "execution_count": 28,
     "metadata": {},
     "output_type": "execute_result"
    }
   ],
   "source": [
    "def is_valid_int(x):\n",
    "    try:\n",
    "        int(x)\n",
    "        return True\n",
    "    except ValueError:\n",
    "        return False\n",
    "\n",
    "titanic['TicketNumber'].apply(is_valid_int).value_counts()"
   ]
  },
  {
   "cell_type": "markdown",
   "metadata": {},
   "source": [
    "Let's bring them up:"
   ]
  },
  {
   "cell_type": "code",
   "execution_count": 29,
   "metadata": {},
   "outputs": [
    {
     "data": {
      "text/html": [
       "<div>\n",
       "<style>\n",
       "    .dataframe thead tr:only-child th {\n",
       "        text-align: right;\n",
       "    }\n",
       "\n",
       "    .dataframe thead th {\n",
       "        text-align: left;\n",
       "    }\n",
       "\n",
       "    .dataframe tbody tr th {\n",
       "        vertical-align: top;\n",
       "    }\n",
       "</style>\n",
       "<table border=\"1\" class=\"dataframe\">\n",
       "  <thead>\n",
       "    <tr style=\"text-align: right;\">\n",
       "      <th></th>\n",
       "      <th>PassengerId</th>\n",
       "      <th>Survived</th>\n",
       "      <th>Pclass</th>\n",
       "      <th>Sex</th>\n",
       "      <th>Age</th>\n",
       "      <th>SibSp</th>\n",
       "      <th>Parch</th>\n",
       "      <th>Fare</th>\n",
       "      <th>Cabin</th>\n",
       "      <th>Embarked</th>\n",
       "      <th>LastName</th>\n",
       "      <th>FirstName</th>\n",
       "      <th>MarriedWoman</th>\n",
       "      <th>TicketNumber</th>\n",
       "      <th>TicketPrefix</th>\n",
       "    </tr>\n",
       "  </thead>\n",
       "  <tbody>\n",
       "    <tr>\n",
       "      <th>179</th>\n",
       "      <td>180</td>\n",
       "      <td>False</td>\n",
       "      <td>3</td>\n",
       "      <td>male</td>\n",
       "      <td>36.0</td>\n",
       "      <td>0</td>\n",
       "      <td>0</td>\n",
       "      <td>0.0</td>\n",
       "      <td>NaN</td>\n",
       "      <td>S</td>\n",
       "      <td>Leonard</td>\n",
       "      <td>Mr. Lionel</td>\n",
       "      <td>NaN</td>\n",
       "      <td>LINE</td>\n",
       "      <td></td>\n",
       "    </tr>\n",
       "    <tr>\n",
       "      <th>271</th>\n",
       "      <td>272</td>\n",
       "      <td>True</td>\n",
       "      <td>3</td>\n",
       "      <td>male</td>\n",
       "      <td>25.0</td>\n",
       "      <td>0</td>\n",
       "      <td>0</td>\n",
       "      <td>0.0</td>\n",
       "      <td>NaN</td>\n",
       "      <td>S</td>\n",
       "      <td>Tornquist</td>\n",
       "      <td>Mr. William Henry</td>\n",
       "      <td>NaN</td>\n",
       "      <td>LINE</td>\n",
       "      <td></td>\n",
       "    </tr>\n",
       "    <tr>\n",
       "      <th>302</th>\n",
       "      <td>303</td>\n",
       "      <td>False</td>\n",
       "      <td>3</td>\n",
       "      <td>male</td>\n",
       "      <td>19.0</td>\n",
       "      <td>0</td>\n",
       "      <td>0</td>\n",
       "      <td>0.0</td>\n",
       "      <td>NaN</td>\n",
       "      <td>S</td>\n",
       "      <td>Johnson</td>\n",
       "      <td>Mr. William Cahoone Jr</td>\n",
       "      <td>NaN</td>\n",
       "      <td>LINE</td>\n",
       "      <td></td>\n",
       "    </tr>\n",
       "    <tr>\n",
       "      <th>597</th>\n",
       "      <td>598</td>\n",
       "      <td>False</td>\n",
       "      <td>3</td>\n",
       "      <td>male</td>\n",
       "      <td>49.0</td>\n",
       "      <td>0</td>\n",
       "      <td>0</td>\n",
       "      <td>0.0</td>\n",
       "      <td>NaN</td>\n",
       "      <td>S</td>\n",
       "      <td>Johnson</td>\n",
       "      <td>Mr. Alfred</td>\n",
       "      <td>NaN</td>\n",
       "      <td>LINE</td>\n",
       "      <td></td>\n",
       "    </tr>\n",
       "  </tbody>\n",
       "</table>\n",
       "</div>"
      ],
      "text/plain": [
       "     PassengerId Survived Pclass   Sex   Age  SibSp  Parch  Fare Cabin  \\\n",
       "179          180    False      3  male  36.0      0      0   0.0   NaN   \n",
       "271          272     True      3  male  25.0      0      0   0.0   NaN   \n",
       "302          303    False      3  male  19.0      0      0   0.0   NaN   \n",
       "597          598    False      3  male  49.0      0      0   0.0   NaN   \n",
       "\n",
       "    Embarked   LastName               FirstName MarriedWoman TicketNumber  \\\n",
       "179        S    Leonard              Mr. Lionel          NaN         LINE   \n",
       "271        S  Tornquist       Mr. William Henry          NaN         LINE   \n",
       "302        S    Johnson  Mr. William Cahoone Jr          NaN         LINE   \n",
       "597        S    Johnson              Mr. Alfred          NaN         LINE   \n",
       "\n",
       "    TicketPrefix  \n",
       "179               \n",
       "271               \n",
       "302               \n",
       "597               "
      ]
     },
     "execution_count": 29,
     "metadata": {},
     "output_type": "execute_result"
    }
   ],
   "source": [
    "titanic[~titanic['TicketNumber'].apply(is_valid_int)]"
   ]
  },
  {
   "cell_type": "markdown",
   "metadata": {},
   "source": [
    "In all these cases, the ticket is registered as `LINE`. We can find from [this report](https://www.encyclopedia-titanica.org/titanic-survivor/william-henry-tornquist.html) that the ticket numbers of Lionel Törnquist, Alfred Johnson and William Johnson is actually `370160`. Lionel Leonard's real name was [Andrew John Shannon](https://www.encyclopedia-titanica.org/titanic-victim/lionel-leonard.html) and he too was travelling on the same ticket number, `370160`.\n",
    "\n",
    "We will manually fix these values:"
   ]
  },
  {
   "cell_type": "code",
   "execution_count": 30,
   "metadata": {},
   "outputs": [
    {
     "data": {
      "text/plain": [
       "0"
      ]
     },
     "execution_count": 30,
     "metadata": {},
     "output_type": "execute_result"
    }
   ],
   "source": [
    "titanic['TicketNumber'] = titanic['TicketNumber'].apply(lambda x: 370160 if x == 'LINE' else x)\n",
    "\n",
    "len(titanic[~titanic['TicketNumber'].apply(is_valid_int)])"
   ]
  },
  {
   "cell_type": "markdown",
   "metadata": {},
   "source": [
    "We can now set the ticket number to be numerical."
   ]
  },
  {
   "cell_type": "code",
   "execution_count": 31,
   "metadata": {},
   "outputs": [],
   "source": [
    "titanic['TicketNumber'] = titanic['TicketNumber'].astype(int)"
   ]
  },
  {
   "cell_type": "markdown",
   "metadata": {},
   "source": [
    "Finally, a quick evaluation of the ticket prefixes shows that the majority of the ticket numbers is prefixless, whereas some prefixes seem to occur more than once (e.g. `C.A.`, `CA.`, `CA` and `C.A./SOTON`)."
   ]
  },
  {
   "cell_type": "code",
   "execution_count": 32,
   "metadata": {},
   "outputs": [
    {
     "data": {
      "text/plain": [
       "               665\n",
       "PC              60\n",
       "C.A.            27\n",
       "STON/O 2.       12\n",
       "A/5             10\n",
       "W./C.            9\n",
       "SOTON/O.Q.       8\n",
       "CA.              8\n",
       "SOTON/OQ         7\n",
       "A/5.             7\n",
       "STON/O2.         6\n",
       "CA               6\n",
       "SC/PARIS         5\n",
       "S.O.C.           5\n",
       "F.C.C.           5\n",
       "C                5\n",
       "SC/Paris         4\n",
       "PP               3\n",
       "A/4.             3\n",
       "A/4              3\n",
       "S.O./P.P.        3\n",
       "A.5.             2\n",
       "P/PP             2\n",
       "A./5.            2\n",
       "WE/P             2\n",
       "SC/AH            2\n",
       "SOTON/O2         2\n",
       "S.C./PARIS       2\n",
       "S.O.P.           1\n",
       "F.C.             1\n",
       "S.P.             1\n",
       "S.W./PP          1\n",
       "C.A./SOTON       1\n",
       "SC               1\n",
       "W/C              1\n",
       "A4.              1\n",
       "A/S              1\n",
       "SC/AH Basle      1\n",
       "SCO/W            1\n",
       "SO/C             1\n",
       "Fa               1\n",
       "SW/PP            1\n",
       "W.E.P.           1\n",
       "S.C./A.4.        1\n",
       "Name: TicketPrefix, dtype: int64"
      ]
     },
     "execution_count": 32,
     "metadata": {},
     "output_type": "execute_result"
    }
   ],
   "source": [
    "titanic['TicketPrefix'].value_counts()"
   ]
  },
  {
   "cell_type": "markdown",
   "metadata": {},
   "source": [
    "### Fare price\n",
    "\n",
    "The fare price field is uniform."
   ]
  },
  {
   "cell_type": "code",
   "execution_count": 33,
   "metadata": {},
   "outputs": [
    {
     "data": {
      "text/plain": [
       "array([ True], dtype=bool)"
      ]
     },
     "execution_count": 33,
     "metadata": {},
     "output_type": "execute_result"
    }
   ],
   "source": [
    "titanic['Fare'].apply(lambda x: is_valid_float(x, allow_nan=False)).unique()"
   ]
  },
  {
   "cell_type": "code",
   "execution_count": 34,
   "metadata": {},
   "outputs": [
    {
     "data": {
      "text/plain": [
       "count    891.000000\n",
       "mean      32.204208\n",
       "std       49.693429\n",
       "min        0.000000\n",
       "25%        7.910400\n",
       "50%       14.454200\n",
       "75%       31.000000\n",
       "max      512.329200\n",
       "Name: Fare, dtype: float64"
      ]
     },
     "execution_count": 34,
     "metadata": {},
     "output_type": "execute_result"
    }
   ],
   "source": [
    "titanic['Fare'].describe()"
   ]
  },
  {
   "cell_type": "markdown",
   "metadata": {},
   "source": [
    "### Cabin numbers\n",
    "\n",
    "The cabin numbers column is not uniform. Apart from missing values (represented as `NaN`), some fields contain more than one entry, such as `'B57 B59 B63 B66'`, `'C23 C25 C27'` or `'F E69'`."
   ]
  },
  {
   "cell_type": "code",
   "execution_count": 35,
   "metadata": {},
   "outputs": [
    {
     "data": {
      "text/plain": [
       "array([nan, 'C85', 'C123', 'E46', 'G6', 'C103', 'D56', 'A6', 'C23 C25 C27',\n",
       "       'B78', 'D33', 'B30', 'C52', 'B28', 'C83', 'F33', 'F G73', 'E31',\n",
       "       'A5', 'D10 D12', 'D26', 'C110', 'B58 B60', 'E101', 'F E69', 'D47',\n",
       "       'B86', 'F2', 'C2', 'E33', 'B19', 'A7', 'C49', 'F4', 'A32', 'B4',\n",
       "       'B80', 'A31', 'D36', 'D15', 'C93', 'C78', 'D35', 'C87', 'B77',\n",
       "       'E67', 'B94', 'C125', 'C99', 'C118', 'D7', 'A19', 'B49', 'D',\n",
       "       'C22 C26', 'C106', 'C65', 'E36', 'C54', 'B57 B59 B63 B66', 'C7',\n",
       "       'E34', 'C32', 'B18', 'C124', 'C91', 'E40', 'T', 'C128', 'D37',\n",
       "       'B35', 'E50', 'C82', 'B96 B98', 'E10', 'E44', 'A34', 'C104', 'C111',\n",
       "       'C92', 'E38', 'D21', 'E12', 'E63', 'A14', 'B37', 'C30', 'D20',\n",
       "       'B79', 'E25', 'D46', 'B73', 'C95', 'B38', 'B39', 'B22', 'C86',\n",
       "       'C70', 'A16', 'C101', 'C68', 'A10', 'E68', 'B41', 'A20', 'D19',\n",
       "       'D50', 'D9', 'A23', 'B50', 'A26', 'D48', 'E58', 'C126', 'B71',\n",
       "       'B51 B53 B55', 'D49', 'B5', 'B20', 'F G63', 'C62 C64', 'E24', 'C90',\n",
       "       'C45', 'E8', 'B101', 'D45', 'C46', 'D30', 'E121', 'D11', 'E77',\n",
       "       'F38', 'B3', 'D6', 'B82 B84', 'D17', 'A36', 'B102', 'B69', 'E49',\n",
       "       'C47', 'D28', 'E17', 'A24', 'C50', 'B42', 'C148'], dtype=object)"
      ]
     },
     "execution_count": 35,
     "metadata": {},
     "output_type": "execute_result"
    }
   ],
   "source": [
    "titanic['Cabin'].unique()"
   ]
  },
  {
   "cell_type": "markdown",
   "metadata": {},
   "source": [
    "We will first determine the entries with cabin numbers both existing and in the expected format."
   ]
  },
  {
   "cell_type": "code",
   "execution_count": 36,
   "metadata": {},
   "outputs": [
    {
     "data": {
      "text/html": [
       "<div>\n",
       "<style>\n",
       "    .dataframe thead tr:only-child th {\n",
       "        text-align: right;\n",
       "    }\n",
       "\n",
       "    .dataframe thead th {\n",
       "        text-align: left;\n",
       "    }\n",
       "\n",
       "    .dataframe tbody tr th {\n",
       "        vertical-align: top;\n",
       "    }\n",
       "</style>\n",
       "<table border=\"1\" class=\"dataframe\">\n",
       "  <thead>\n",
       "    <tr style=\"text-align: right;\">\n",
       "      <th></th>\n",
       "      <th>PassengerId</th>\n",
       "      <th>Survived</th>\n",
       "      <th>Pclass</th>\n",
       "      <th>Sex</th>\n",
       "      <th>Age</th>\n",
       "      <th>SibSp</th>\n",
       "      <th>Parch</th>\n",
       "      <th>Fare</th>\n",
       "      <th>Cabin</th>\n",
       "      <th>Embarked</th>\n",
       "      <th>LastName</th>\n",
       "      <th>FirstName</th>\n",
       "      <th>MarriedWoman</th>\n",
       "      <th>TicketNumber</th>\n",
       "      <th>TicketPrefix</th>\n",
       "    </tr>\n",
       "  </thead>\n",
       "  <tbody>\n",
       "    <tr>\n",
       "      <th>1</th>\n",
       "      <td>2</td>\n",
       "      <td>True</td>\n",
       "      <td>1</td>\n",
       "      <td>female</td>\n",
       "      <td>38.0</td>\n",
       "      <td>1</td>\n",
       "      <td>0</td>\n",
       "      <td>71.2833</td>\n",
       "      <td>C85</td>\n",
       "      <td>C</td>\n",
       "      <td>Cumings</td>\n",
       "      <td>Mrs. John Bradley (Florence Briggs Thayer)</td>\n",
       "      <td>True</td>\n",
       "      <td>17599</td>\n",
       "      <td>PC</td>\n",
       "    </tr>\n",
       "    <tr>\n",
       "      <th>3</th>\n",
       "      <td>4</td>\n",
       "      <td>True</td>\n",
       "      <td>1</td>\n",
       "      <td>female</td>\n",
       "      <td>35.0</td>\n",
       "      <td>1</td>\n",
       "      <td>0</td>\n",
       "      <td>53.1000</td>\n",
       "      <td>C123</td>\n",
       "      <td>S</td>\n",
       "      <td>Futrelle</td>\n",
       "      <td>Mrs. Jacques Heath (Lily May Peel)</td>\n",
       "      <td>True</td>\n",
       "      <td>113803</td>\n",
       "      <td></td>\n",
       "    </tr>\n",
       "    <tr>\n",
       "      <th>6</th>\n",
       "      <td>7</td>\n",
       "      <td>False</td>\n",
       "      <td>1</td>\n",
       "      <td>male</td>\n",
       "      <td>54.0</td>\n",
       "      <td>0</td>\n",
       "      <td>0</td>\n",
       "      <td>51.8625</td>\n",
       "      <td>E46</td>\n",
       "      <td>S</td>\n",
       "      <td>McCarthy</td>\n",
       "      <td>Mr. Timothy J</td>\n",
       "      <td>NaN</td>\n",
       "      <td>17463</td>\n",
       "      <td></td>\n",
       "    </tr>\n",
       "    <tr>\n",
       "      <th>10</th>\n",
       "      <td>11</td>\n",
       "      <td>True</td>\n",
       "      <td>3</td>\n",
       "      <td>female</td>\n",
       "      <td>4.0</td>\n",
       "      <td>1</td>\n",
       "      <td>1</td>\n",
       "      <td>16.7000</td>\n",
       "      <td>G6</td>\n",
       "      <td>S</td>\n",
       "      <td>Sandstrom</td>\n",
       "      <td>Miss. Marguerite Rut</td>\n",
       "      <td>False</td>\n",
       "      <td>9549</td>\n",
       "      <td>PP</td>\n",
       "    </tr>\n",
       "    <tr>\n",
       "      <th>11</th>\n",
       "      <td>12</td>\n",
       "      <td>True</td>\n",
       "      <td>1</td>\n",
       "      <td>female</td>\n",
       "      <td>58.0</td>\n",
       "      <td>0</td>\n",
       "      <td>0</td>\n",
       "      <td>26.5500</td>\n",
       "      <td>C103</td>\n",
       "      <td>S</td>\n",
       "      <td>Bonnell</td>\n",
       "      <td>Miss. Elizabeth</td>\n",
       "      <td>False</td>\n",
       "      <td>113783</td>\n",
       "      <td></td>\n",
       "    </tr>\n",
       "  </tbody>\n",
       "</table>\n",
       "</div>"
      ],
      "text/plain": [
       "    PassengerId Survived Pclass     Sex   Age  SibSp  Parch     Fare Cabin  \\\n",
       "1             2     True      1  female  38.0      1      0  71.2833   C85   \n",
       "3             4     True      1  female  35.0      1      0  53.1000  C123   \n",
       "6             7    False      1    male  54.0      0      0  51.8625   E46   \n",
       "10           11     True      3  female   4.0      1      1  16.7000    G6   \n",
       "11           12     True      1  female  58.0      0      0  26.5500  C103   \n",
       "\n",
       "   Embarked   LastName                                   FirstName  \\\n",
       "1         C    Cumings  Mrs. John Bradley (Florence Briggs Thayer)   \n",
       "3         S   Futrelle          Mrs. Jacques Heath (Lily May Peel)   \n",
       "6         S   McCarthy                               Mr. Timothy J   \n",
       "10        S  Sandstrom                        Miss. Marguerite Rut   \n",
       "11        S    Bonnell                             Miss. Elizabeth   \n",
       "\n",
       "   MarriedWoman  TicketNumber TicketPrefix  \n",
       "1          True         17599           PC  \n",
       "3          True        113803               \n",
       "6           NaN         17463               \n",
       "10        False          9549           PP  \n",
       "11        False        113783               "
      ]
     },
     "execution_count": 36,
     "metadata": {},
     "output_type": "execute_result"
    }
   ],
   "source": [
    "import re\n",
    "cabin_re = re.compile('^[A-G][0-9]{1,3}$')\n",
    "\n",
    "valid_cabins = titanic['Cabin'].apply(lambda c: isinstance(c, str) and cabin_re.match(c) is not None)\n",
    "titanic[valid_cabins].head()"
   ]
  },
  {
   "cell_type": "markdown",
   "metadata": {},
   "source": [
    "Next we determine entries with cabin numbers set, but deviating from the expected format. These entries seem to correlate to ticket numbers and last name of the passengers. In order to show the relation, we sort the cabin column by name."
   ]
  },
  {
   "cell_type": "code",
   "execution_count": 37,
   "metadata": {},
   "outputs": [
    {
     "data": {
      "text/html": [
       "<div>\n",
       "<style>\n",
       "    .dataframe thead tr:only-child th {\n",
       "        text-align: right;\n",
       "    }\n",
       "\n",
       "    .dataframe thead th {\n",
       "        text-align: left;\n",
       "    }\n",
       "\n",
       "    .dataframe tbody tr th {\n",
       "        vertical-align: top;\n",
       "    }\n",
       "</style>\n",
       "<table border=\"1\" class=\"dataframe\">\n",
       "  <thead>\n",
       "    <tr style=\"text-align: right;\">\n",
       "      <th></th>\n",
       "      <th>PassengerId</th>\n",
       "      <th>Survived</th>\n",
       "      <th>Pclass</th>\n",
       "      <th>Sex</th>\n",
       "      <th>Age</th>\n",
       "      <th>SibSp</th>\n",
       "      <th>Parch</th>\n",
       "      <th>Fare</th>\n",
       "      <th>Cabin</th>\n",
       "      <th>Embarked</th>\n",
       "      <th>LastName</th>\n",
       "      <th>FirstName</th>\n",
       "      <th>MarriedWoman</th>\n",
       "      <th>TicketNumber</th>\n",
       "      <th>TicketPrefix</th>\n",
       "    </tr>\n",
       "  </thead>\n",
       "  <tbody>\n",
       "    <tr>\n",
       "      <th>872</th>\n",
       "      <td>873</td>\n",
       "      <td>False</td>\n",
       "      <td>1</td>\n",
       "      <td>male</td>\n",
       "      <td>33.00</td>\n",
       "      <td>0</td>\n",
       "      <td>0</td>\n",
       "      <td>5.0000</td>\n",
       "      <td>B51 B53 B55</td>\n",
       "      <td>S</td>\n",
       "      <td>Carlsson</td>\n",
       "      <td>Mr. Frans Olof</td>\n",
       "      <td>NaN</td>\n",
       "      <td>695</td>\n",
       "      <td></td>\n",
       "    </tr>\n",
       "    <tr>\n",
       "      <th>679</th>\n",
       "      <td>680</td>\n",
       "      <td>True</td>\n",
       "      <td>1</td>\n",
       "      <td>male</td>\n",
       "      <td>36.00</td>\n",
       "      <td>0</td>\n",
       "      <td>1</td>\n",
       "      <td>512.3292</td>\n",
       "      <td>B51 B53 B55</td>\n",
       "      <td>C</td>\n",
       "      <td>Cardeza</td>\n",
       "      <td>Mr. Thomas Drake Martinez</td>\n",
       "      <td>NaN</td>\n",
       "      <td>17755</td>\n",
       "      <td>PC</td>\n",
       "    </tr>\n",
       "    <tr>\n",
       "      <th>742</th>\n",
       "      <td>743</td>\n",
       "      <td>True</td>\n",
       "      <td>1</td>\n",
       "      <td>female</td>\n",
       "      <td>21.00</td>\n",
       "      <td>2</td>\n",
       "      <td>2</td>\n",
       "      <td>262.3750</td>\n",
       "      <td>B57 B59 B63 B66</td>\n",
       "      <td>C</td>\n",
       "      <td>Ryerson</td>\n",
       "      <td>Miss. Susan Parker \"Suzette\"</td>\n",
       "      <td>False</td>\n",
       "      <td>17608</td>\n",
       "      <td>PC</td>\n",
       "    </tr>\n",
       "    <tr>\n",
       "      <th>311</th>\n",
       "      <td>312</td>\n",
       "      <td>True</td>\n",
       "      <td>1</td>\n",
       "      <td>female</td>\n",
       "      <td>18.00</td>\n",
       "      <td>2</td>\n",
       "      <td>2</td>\n",
       "      <td>262.3750</td>\n",
       "      <td>B57 B59 B63 B66</td>\n",
       "      <td>C</td>\n",
       "      <td>Ryerson</td>\n",
       "      <td>Miss. Emily Borie</td>\n",
       "      <td>False</td>\n",
       "      <td>17608</td>\n",
       "      <td>PC</td>\n",
       "    </tr>\n",
       "    <tr>\n",
       "      <th>118</th>\n",
       "      <td>119</td>\n",
       "      <td>False</td>\n",
       "      <td>1</td>\n",
       "      <td>male</td>\n",
       "      <td>24.00</td>\n",
       "      <td>0</td>\n",
       "      <td>1</td>\n",
       "      <td>247.5208</td>\n",
       "      <td>B58 B60</td>\n",
       "      <td>C</td>\n",
       "      <td>Baxter</td>\n",
       "      <td>Mr. Quigg Edmond</td>\n",
       "      <td>NaN</td>\n",
       "      <td>17558</td>\n",
       "      <td>PC</td>\n",
       "    </tr>\n",
       "    <tr>\n",
       "      <th>299</th>\n",
       "      <td>300</td>\n",
       "      <td>True</td>\n",
       "      <td>1</td>\n",
       "      <td>female</td>\n",
       "      <td>50.00</td>\n",
       "      <td>0</td>\n",
       "      <td>1</td>\n",
       "      <td>247.5208</td>\n",
       "      <td>B58 B60</td>\n",
       "      <td>C</td>\n",
       "      <td>Baxter</td>\n",
       "      <td>Mrs. James (Helene DeLaudeniere Chaput)</td>\n",
       "      <td>True</td>\n",
       "      <td>17558</td>\n",
       "      <td>PC</td>\n",
       "    </tr>\n",
       "    <tr>\n",
       "      <th>789</th>\n",
       "      <td>790</td>\n",
       "      <td>False</td>\n",
       "      <td>1</td>\n",
       "      <td>male</td>\n",
       "      <td>46.00</td>\n",
       "      <td>0</td>\n",
       "      <td>0</td>\n",
       "      <td>79.2000</td>\n",
       "      <td>B82 B84</td>\n",
       "      <td>C</td>\n",
       "      <td>Guggenheim</td>\n",
       "      <td>Mr. Benjamin</td>\n",
       "      <td>NaN</td>\n",
       "      <td>17593</td>\n",
       "      <td>PC</td>\n",
       "    </tr>\n",
       "    <tr>\n",
       "      <th>763</th>\n",
       "      <td>764</td>\n",
       "      <td>True</td>\n",
       "      <td>1</td>\n",
       "      <td>female</td>\n",
       "      <td>36.00</td>\n",
       "      <td>1</td>\n",
       "      <td>2</td>\n",
       "      <td>120.0000</td>\n",
       "      <td>B96 B98</td>\n",
       "      <td>S</td>\n",
       "      <td>Carter</td>\n",
       "      <td>Mrs. William Ernest (Lucile Polk)</td>\n",
       "      <td>True</td>\n",
       "      <td>113760</td>\n",
       "      <td></td>\n",
       "    </tr>\n",
       "    <tr>\n",
       "      <th>435</th>\n",
       "      <td>436</td>\n",
       "      <td>True</td>\n",
       "      <td>1</td>\n",
       "      <td>female</td>\n",
       "      <td>14.00</td>\n",
       "      <td>1</td>\n",
       "      <td>2</td>\n",
       "      <td>120.0000</td>\n",
       "      <td>B96 B98</td>\n",
       "      <td>S</td>\n",
       "      <td>Carter</td>\n",
       "      <td>Miss. Lucile Polk</td>\n",
       "      <td>False</td>\n",
       "      <td>113760</td>\n",
       "      <td></td>\n",
       "    </tr>\n",
       "    <tr>\n",
       "      <th>802</th>\n",
       "      <td>803</td>\n",
       "      <td>True</td>\n",
       "      <td>1</td>\n",
       "      <td>male</td>\n",
       "      <td>11.00</td>\n",
       "      <td>1</td>\n",
       "      <td>2</td>\n",
       "      <td>120.0000</td>\n",
       "      <td>B96 B98</td>\n",
       "      <td>S</td>\n",
       "      <td>Carter</td>\n",
       "      <td>Master. William Thornton II</td>\n",
       "      <td>NaN</td>\n",
       "      <td>113760</td>\n",
       "      <td></td>\n",
       "    </tr>\n",
       "    <tr>\n",
       "      <th>390</th>\n",
       "      <td>391</td>\n",
       "      <td>True</td>\n",
       "      <td>1</td>\n",
       "      <td>male</td>\n",
       "      <td>36.00</td>\n",
       "      <td>1</td>\n",
       "      <td>2</td>\n",
       "      <td>120.0000</td>\n",
       "      <td>B96 B98</td>\n",
       "      <td>S</td>\n",
       "      <td>Carter</td>\n",
       "      <td>Mr. William Ernest</td>\n",
       "      <td>NaN</td>\n",
       "      <td>113760</td>\n",
       "      <td></td>\n",
       "    </tr>\n",
       "    <tr>\n",
       "      <th>498</th>\n",
       "      <td>499</td>\n",
       "      <td>False</td>\n",
       "      <td>1</td>\n",
       "      <td>female</td>\n",
       "      <td>25.00</td>\n",
       "      <td>1</td>\n",
       "      <td>2</td>\n",
       "      <td>151.5500</td>\n",
       "      <td>C22 C26</td>\n",
       "      <td>S</td>\n",
       "      <td>Allison</td>\n",
       "      <td>Mrs. Hudson J C (Bessie Waldo Daniels)</td>\n",
       "      <td>True</td>\n",
       "      <td>113781</td>\n",
       "      <td></td>\n",
       "    </tr>\n",
       "    <tr>\n",
       "      <th>297</th>\n",
       "      <td>298</td>\n",
       "      <td>False</td>\n",
       "      <td>1</td>\n",
       "      <td>female</td>\n",
       "      <td>2.00</td>\n",
       "      <td>1</td>\n",
       "      <td>2</td>\n",
       "      <td>151.5500</td>\n",
       "      <td>C22 C26</td>\n",
       "      <td>S</td>\n",
       "      <td>Allison</td>\n",
       "      <td>Miss. Helen Loraine</td>\n",
       "      <td>False</td>\n",
       "      <td>113781</td>\n",
       "      <td></td>\n",
       "    </tr>\n",
       "    <tr>\n",
       "      <th>305</th>\n",
       "      <td>306</td>\n",
       "      <td>True</td>\n",
       "      <td>1</td>\n",
       "      <td>male</td>\n",
       "      <td>0.92</td>\n",
       "      <td>1</td>\n",
       "      <td>2</td>\n",
       "      <td>151.5500</td>\n",
       "      <td>C22 C26</td>\n",
       "      <td>S</td>\n",
       "      <td>Allison</td>\n",
       "      <td>Master. Hudson Trevor</td>\n",
       "      <td>NaN</td>\n",
       "      <td>113781</td>\n",
       "      <td></td>\n",
       "    </tr>\n",
       "    <tr>\n",
       "      <th>438</th>\n",
       "      <td>439</td>\n",
       "      <td>False</td>\n",
       "      <td>1</td>\n",
       "      <td>male</td>\n",
       "      <td>64.00</td>\n",
       "      <td>1</td>\n",
       "      <td>4</td>\n",
       "      <td>263.0000</td>\n",
       "      <td>C23 C25 C27</td>\n",
       "      <td>S</td>\n",
       "      <td>Fortune</td>\n",
       "      <td>Mr. Mark</td>\n",
       "      <td>NaN</td>\n",
       "      <td>19950</td>\n",
       "      <td></td>\n",
       "    </tr>\n",
       "    <tr>\n",
       "      <th>27</th>\n",
       "      <td>28</td>\n",
       "      <td>False</td>\n",
       "      <td>1</td>\n",
       "      <td>male</td>\n",
       "      <td>19.00</td>\n",
       "      <td>3</td>\n",
       "      <td>2</td>\n",
       "      <td>263.0000</td>\n",
       "      <td>C23 C25 C27</td>\n",
       "      <td>S</td>\n",
       "      <td>Fortune</td>\n",
       "      <td>Mr. Charles Alexander</td>\n",
       "      <td>NaN</td>\n",
       "      <td>19950</td>\n",
       "      <td></td>\n",
       "    </tr>\n",
       "    <tr>\n",
       "      <th>88</th>\n",
       "      <td>89</td>\n",
       "      <td>True</td>\n",
       "      <td>1</td>\n",
       "      <td>female</td>\n",
       "      <td>23.00</td>\n",
       "      <td>3</td>\n",
       "      <td>2</td>\n",
       "      <td>263.0000</td>\n",
       "      <td>C23 C25 C27</td>\n",
       "      <td>S</td>\n",
       "      <td>Fortune</td>\n",
       "      <td>Miss. Mabel Helen</td>\n",
       "      <td>False</td>\n",
       "      <td>19950</td>\n",
       "      <td></td>\n",
       "    </tr>\n",
       "    <tr>\n",
       "      <th>341</th>\n",
       "      <td>342</td>\n",
       "      <td>True</td>\n",
       "      <td>1</td>\n",
       "      <td>female</td>\n",
       "      <td>24.00</td>\n",
       "      <td>3</td>\n",
       "      <td>2</td>\n",
       "      <td>263.0000</td>\n",
       "      <td>C23 C25 C27</td>\n",
       "      <td>S</td>\n",
       "      <td>Fortune</td>\n",
       "      <td>Miss. Alice Elizabeth</td>\n",
       "      <td>False</td>\n",
       "      <td>19950</td>\n",
       "      <td></td>\n",
       "    </tr>\n",
       "    <tr>\n",
       "      <th>700</th>\n",
       "      <td>701</td>\n",
       "      <td>True</td>\n",
       "      <td>1</td>\n",
       "      <td>female</td>\n",
       "      <td>18.00</td>\n",
       "      <td>1</td>\n",
       "      <td>0</td>\n",
       "      <td>227.5250</td>\n",
       "      <td>C62 C64</td>\n",
       "      <td>C</td>\n",
       "      <td>Astor</td>\n",
       "      <td>Mrs. John Jacob (Madeleine Talmadge Force)</td>\n",
       "      <td>True</td>\n",
       "      <td>17757</td>\n",
       "      <td>PC</td>\n",
       "    </tr>\n",
       "    <tr>\n",
       "      <th>327</th>\n",
       "      <td>328</td>\n",
       "      <td>True</td>\n",
       "      <td>2</td>\n",
       "      <td>female</td>\n",
       "      <td>36.00</td>\n",
       "      <td>0</td>\n",
       "      <td>0</td>\n",
       "      <td>13.0000</td>\n",
       "      <td>D</td>\n",
       "      <td>S</td>\n",
       "      <td>Ball</td>\n",
       "      <td>Mrs. (Ada E Hall)</td>\n",
       "      <td>True</td>\n",
       "      <td>28551</td>\n",
       "      <td></td>\n",
       "    </tr>\n",
       "    <tr>\n",
       "      <th>473</th>\n",
       "      <td>474</td>\n",
       "      <td>True</td>\n",
       "      <td>2</td>\n",
       "      <td>female</td>\n",
       "      <td>23.00</td>\n",
       "      <td>0</td>\n",
       "      <td>0</td>\n",
       "      <td>13.7917</td>\n",
       "      <td>D</td>\n",
       "      <td>C</td>\n",
       "      <td>Jerwan</td>\n",
       "      <td>Mrs. Amin S (Marie Marthe Thuillard)</td>\n",
       "      <td>True</td>\n",
       "      <td>541</td>\n",
       "      <td>SC/AH Basle</td>\n",
       "    </tr>\n",
       "    <tr>\n",
       "      <th>292</th>\n",
       "      <td>293</td>\n",
       "      <td>False</td>\n",
       "      <td>2</td>\n",
       "      <td>male</td>\n",
       "      <td>36.00</td>\n",
       "      <td>0</td>\n",
       "      <td>0</td>\n",
       "      <td>12.8750</td>\n",
       "      <td>D</td>\n",
       "      <td>C</td>\n",
       "      <td>Levy</td>\n",
       "      <td>Mr. Rene Jacques</td>\n",
       "      <td>NaN</td>\n",
       "      <td>2163</td>\n",
       "      <td>SC/Paris</td>\n",
       "    </tr>\n",
       "    <tr>\n",
       "      <th>97</th>\n",
       "      <td>98</td>\n",
       "      <td>True</td>\n",
       "      <td>1</td>\n",
       "      <td>male</td>\n",
       "      <td>23.00</td>\n",
       "      <td>0</td>\n",
       "      <td>1</td>\n",
       "      <td>63.3583</td>\n",
       "      <td>D10 D12</td>\n",
       "      <td>C</td>\n",
       "      <td>Greenfield</td>\n",
       "      <td>Mr. William Bertram</td>\n",
       "      <td>NaN</td>\n",
       "      <td>17759</td>\n",
       "      <td>PC</td>\n",
       "    </tr>\n",
       "    <tr>\n",
       "      <th>128</th>\n",
       "      <td>129</td>\n",
       "      <td>True</td>\n",
       "      <td>3</td>\n",
       "      <td>female</td>\n",
       "      <td>NaN</td>\n",
       "      <td>1</td>\n",
       "      <td>1</td>\n",
       "      <td>22.3583</td>\n",
       "      <td>F E69</td>\n",
       "      <td>C</td>\n",
       "      <td>Peter</td>\n",
       "      <td>Miss. Anna</td>\n",
       "      <td>False</td>\n",
       "      <td>2668</td>\n",
       "      <td></td>\n",
       "    </tr>\n",
       "    <tr>\n",
       "      <th>699</th>\n",
       "      <td>700</td>\n",
       "      <td>False</td>\n",
       "      <td>3</td>\n",
       "      <td>male</td>\n",
       "      <td>42.00</td>\n",
       "      <td>0</td>\n",
       "      <td>0</td>\n",
       "      <td>7.6500</td>\n",
       "      <td>F G63</td>\n",
       "      <td>S</td>\n",
       "      <td>Humblen</td>\n",
       "      <td>Mr. Adolf Mathias Nicolai Olsen</td>\n",
       "      <td>NaN</td>\n",
       "      <td>348121</td>\n",
       "      <td></td>\n",
       "    </tr>\n",
       "    <tr>\n",
       "      <th>715</th>\n",
       "      <td>716</td>\n",
       "      <td>False</td>\n",
       "      <td>3</td>\n",
       "      <td>male</td>\n",
       "      <td>19.00</td>\n",
       "      <td>0</td>\n",
       "      <td>0</td>\n",
       "      <td>7.6500</td>\n",
       "      <td>F G73</td>\n",
       "      <td>S</td>\n",
       "      <td>Soholt</td>\n",
       "      <td>Mr. Peter Andreas Lauritz Andersen</td>\n",
       "      <td>NaN</td>\n",
       "      <td>348124</td>\n",
       "      <td></td>\n",
       "    </tr>\n",
       "    <tr>\n",
       "      <th>75</th>\n",
       "      <td>76</td>\n",
       "      <td>False</td>\n",
       "      <td>3</td>\n",
       "      <td>male</td>\n",
       "      <td>25.00</td>\n",
       "      <td>0</td>\n",
       "      <td>0</td>\n",
       "      <td>7.6500</td>\n",
       "      <td>F G73</td>\n",
       "      <td>S</td>\n",
       "      <td>Moen</td>\n",
       "      <td>Mr. Sigurd Hansen</td>\n",
       "      <td>NaN</td>\n",
       "      <td>348123</td>\n",
       "      <td></td>\n",
       "    </tr>\n",
       "    <tr>\n",
       "      <th>339</th>\n",
       "      <td>340</td>\n",
       "      <td>False</td>\n",
       "      <td>1</td>\n",
       "      <td>male</td>\n",
       "      <td>45.00</td>\n",
       "      <td>0</td>\n",
       "      <td>0</td>\n",
       "      <td>35.5000</td>\n",
       "      <td>T</td>\n",
       "      <td>S</td>\n",
       "      <td>Blackwell</td>\n",
       "      <td>Mr. Stephen Weart</td>\n",
       "      <td>NaN</td>\n",
       "      <td>113784</td>\n",
       "      <td></td>\n",
       "    </tr>\n",
       "  </tbody>\n",
       "</table>\n",
       "</div>"
      ],
      "text/plain": [
       "     PassengerId Survived Pclass     Sex    Age  SibSp  Parch      Fare  \\\n",
       "872          873    False      1    male  33.00      0      0    5.0000   \n",
       "679          680     True      1    male  36.00      0      1  512.3292   \n",
       "742          743     True      1  female  21.00      2      2  262.3750   \n",
       "311          312     True      1  female  18.00      2      2  262.3750   \n",
       "118          119    False      1    male  24.00      0      1  247.5208   \n",
       "299          300     True      1  female  50.00      0      1  247.5208   \n",
       "789          790    False      1    male  46.00      0      0   79.2000   \n",
       "763          764     True      1  female  36.00      1      2  120.0000   \n",
       "435          436     True      1  female  14.00      1      2  120.0000   \n",
       "802          803     True      1    male  11.00      1      2  120.0000   \n",
       "390          391     True      1    male  36.00      1      2  120.0000   \n",
       "498          499    False      1  female  25.00      1      2  151.5500   \n",
       "297          298    False      1  female   2.00      1      2  151.5500   \n",
       "305          306     True      1    male   0.92      1      2  151.5500   \n",
       "438          439    False      1    male  64.00      1      4  263.0000   \n",
       "27            28    False      1    male  19.00      3      2  263.0000   \n",
       "88            89     True      1  female  23.00      3      2  263.0000   \n",
       "341          342     True      1  female  24.00      3      2  263.0000   \n",
       "700          701     True      1  female  18.00      1      0  227.5250   \n",
       "327          328     True      2  female  36.00      0      0   13.0000   \n",
       "473          474     True      2  female  23.00      0      0   13.7917   \n",
       "292          293    False      2    male  36.00      0      0   12.8750   \n",
       "97            98     True      1    male  23.00      0      1   63.3583   \n",
       "128          129     True      3  female    NaN      1      1   22.3583   \n",
       "699          700    False      3    male  42.00      0      0    7.6500   \n",
       "715          716    False      3    male  19.00      0      0    7.6500   \n",
       "75            76    False      3    male  25.00      0      0    7.6500   \n",
       "339          340    False      1    male  45.00      0      0   35.5000   \n",
       "\n",
       "               Cabin Embarked    LastName  \\\n",
       "872      B51 B53 B55        S    Carlsson   \n",
       "679      B51 B53 B55        C     Cardeza   \n",
       "742  B57 B59 B63 B66        C     Ryerson   \n",
       "311  B57 B59 B63 B66        C     Ryerson   \n",
       "118          B58 B60        C      Baxter   \n",
       "299          B58 B60        C      Baxter   \n",
       "789          B82 B84        C  Guggenheim   \n",
       "763          B96 B98        S      Carter   \n",
       "435          B96 B98        S      Carter   \n",
       "802          B96 B98        S      Carter   \n",
       "390          B96 B98        S      Carter   \n",
       "498          C22 C26        S     Allison   \n",
       "297          C22 C26        S     Allison   \n",
       "305          C22 C26        S     Allison   \n",
       "438      C23 C25 C27        S     Fortune   \n",
       "27       C23 C25 C27        S     Fortune   \n",
       "88       C23 C25 C27        S     Fortune   \n",
       "341      C23 C25 C27        S     Fortune   \n",
       "700          C62 C64        C       Astor   \n",
       "327                D        S        Ball   \n",
       "473                D        C      Jerwan   \n",
       "292                D        C        Levy   \n",
       "97           D10 D12        C  Greenfield   \n",
       "128            F E69        C       Peter   \n",
       "699            F G63        S     Humblen   \n",
       "715            F G73        S      Soholt   \n",
       "75             F G73        S        Moen   \n",
       "339                T        S   Blackwell   \n",
       "\n",
       "                                      FirstName MarriedWoman  TicketNumber  \\\n",
       "872                              Mr. Frans Olof          NaN           695   \n",
       "679                   Mr. Thomas Drake Martinez          NaN         17755   \n",
       "742                Miss. Susan Parker \"Suzette\"        False         17608   \n",
       "311                           Miss. Emily Borie        False         17608   \n",
       "118                            Mr. Quigg Edmond          NaN         17558   \n",
       "299     Mrs. James (Helene DeLaudeniere Chaput)         True         17558   \n",
       "789                                Mr. Benjamin          NaN         17593   \n",
       "763           Mrs. William Ernest (Lucile Polk)         True        113760   \n",
       "435                           Miss. Lucile Polk        False        113760   \n",
       "802                 Master. William Thornton II          NaN        113760   \n",
       "390                          Mr. William Ernest          NaN        113760   \n",
       "498      Mrs. Hudson J C (Bessie Waldo Daniels)         True        113781   \n",
       "297                         Miss. Helen Loraine        False        113781   \n",
       "305                       Master. Hudson Trevor          NaN        113781   \n",
       "438                                    Mr. Mark          NaN         19950   \n",
       "27                        Mr. Charles Alexander          NaN         19950   \n",
       "88                            Miss. Mabel Helen        False         19950   \n",
       "341                       Miss. Alice Elizabeth        False         19950   \n",
       "700  Mrs. John Jacob (Madeleine Talmadge Force)         True         17757   \n",
       "327                           Mrs. (Ada E Hall)         True         28551   \n",
       "473        Mrs. Amin S (Marie Marthe Thuillard)         True           541   \n",
       "292                            Mr. Rene Jacques          NaN          2163   \n",
       "97                          Mr. William Bertram          NaN         17759   \n",
       "128                                  Miss. Anna        False          2668   \n",
       "699             Mr. Adolf Mathias Nicolai Olsen          NaN        348121   \n",
       "715          Mr. Peter Andreas Lauritz Andersen          NaN        348124   \n",
       "75                            Mr. Sigurd Hansen          NaN        348123   \n",
       "339                           Mr. Stephen Weart          NaN        113784   \n",
       "\n",
       "    TicketPrefix  \n",
       "872               \n",
       "679           PC  \n",
       "742           PC  \n",
       "311           PC  \n",
       "118           PC  \n",
       "299           PC  \n",
       "789           PC  \n",
       "763               \n",
       "435               \n",
       "802               \n",
       "390               \n",
       "498               \n",
       "297               \n",
       "305               \n",
       "438               \n",
       "27                \n",
       "88                \n",
       "341               \n",
       "700           PC  \n",
       "327               \n",
       "473  SC/AH Basle  \n",
       "292     SC/Paris  \n",
       "97            PC  \n",
       "128               \n",
       "699               \n",
       "715               \n",
       "75                \n",
       "339               "
      ]
     },
     "execution_count": 37,
     "metadata": {},
     "output_type": "execute_result"
    }
   ],
   "source": [
    "titanic[~valid_cabins].dropna(subset=['Cabin']).sort_values('Cabin')"
   ]
  },
  {
   "cell_type": "markdown",
   "metadata": {},
   "source": [
    "Looking these cabins up on the [Deckplan of the B Deck](https://www.encyclopedia-titanica.org/titanic-deckplans/b-deck.html) it becomes apparent that most of these cabins are colocated and connected through doors.\n",
    "\n",
    "Here's the plan for the cabins **B51** (sitting room), **B53** and **B55** (starboard):"
   ]
  },
  {
   "cell_type": "markdown",
   "metadata": {},
   "source": [
    "![](images/cabin_b555351.png)"
   ]
  },
  {
   "cell_type": "markdown",
   "metadata": {},
   "source": [
    "And here's the plan for cabins **B58** and **B60** (port):"
   ]
  },
  {
   "cell_type": "markdown",
   "metadata": {},
   "source": [
    "![](images/cabin_b5860.png)"
   ]
  },
  {
   "cell_type": "markdown",
   "metadata": {},
   "source": [
    "The deck plans also make it apparent that **even** cabin numbers are port side (\"left\"), while **odd** cabin numbers are starboard side (\"right\"). Since the Titanic rammed the iceberg starboard, this might be interesting to look at."
   ]
  },
  {
   "cell_type": "markdown",
   "metadata": {},
   "source": [
    "The cabin `T` occupied by [Stephen Weart Blackwell](https://www.encyclopedia-titanica.org/titanic-victim/stephen-weart-blackwell.html) is situated on the boat deck, next to the starboard lifeboats."
   ]
  },
  {
   "cell_type": "markdown",
   "metadata": {},
   "source": [
    "![](images/cabin_t.png)"
   ]
  },
  {
   "cell_type": "markdown",
   "metadata": {},
   "source": [
    "The cabins `F E69`, `F G63` and `F G73` correspond to the cabins `69, 63 and 73` of the `E` and `G` sections of deck `F`, respectively. The [Cabin Allocation](https://www.encyclopedia-titanica.org/cabins.html) list indicates these values might be wrong."
   ]
  },
  {
   "cell_type": "markdown",
   "metadata": {},
   "source": [
    "![](images/cabin_feg696373.png)"
   ]
  },
  {
   "cell_type": "markdown",
   "metadata": {},
   "source": [
    "This results in the following cases for cabin allocations:\n",
    "\n",
    "* Many passengers were assigned to a cabin (e.g. passenger `76` and `716`),\n",
    "* many cabins were assigned to a passenger in general, and\n",
    "* many cabins were assigned to many passengers of different name (e.g. passengers `873` and `680`).\n",
    "\n",
    "Cabin names either follow the schema Deck, Number (e.g. cabin `B51`), Deck, Section and Number (`F G73`), Cabin letter (e.g. `T` for passenger `340`) or just a deck in general, if no information is present (e.g. `D` for passenger `328`). Cabin `T` appears to be the only recorded special case for known, single-letter cabin identifiers.\n",
    "\n",
    "In all cases of multiple cabin allocations, the cabins are on the same deck. Thus, a single deck identifier can be used per passenger. They are also next to each other, except for the case of passenger `743` and `312` (the Ryersons)."
   ]
  },
  {
   "cell_type": "markdown",
   "metadata": {},
   "source": [
    "Interestingly, for this case there are only two young women assigned to four cabins, where the sibling/spouse and parent/child indicator both suggest there should be more persons."
   ]
  },
  {
   "cell_type": "code",
   "execution_count": 38,
   "metadata": {},
   "outputs": [
    {
     "data": {
      "text/html": [
       "<div>\n",
       "<style>\n",
       "    .dataframe thead tr:only-child th {\n",
       "        text-align: right;\n",
       "    }\n",
       "\n",
       "    .dataframe thead th {\n",
       "        text-align: left;\n",
       "    }\n",
       "\n",
       "    .dataframe tbody tr th {\n",
       "        vertical-align: top;\n",
       "    }\n",
       "</style>\n",
       "<table border=\"1\" class=\"dataframe\">\n",
       "  <thead>\n",
       "    <tr style=\"text-align: right;\">\n",
       "      <th></th>\n",
       "      <th>PassengerId</th>\n",
       "      <th>Survived</th>\n",
       "      <th>Pclass</th>\n",
       "      <th>Sex</th>\n",
       "      <th>Age</th>\n",
       "      <th>SibSp</th>\n",
       "      <th>Parch</th>\n",
       "      <th>Fare</th>\n",
       "      <th>Cabin</th>\n",
       "      <th>Embarked</th>\n",
       "      <th>LastName</th>\n",
       "      <th>FirstName</th>\n",
       "      <th>MarriedWoman</th>\n",
       "      <th>TicketNumber</th>\n",
       "      <th>TicketPrefix</th>\n",
       "    </tr>\n",
       "  </thead>\n",
       "  <tbody>\n",
       "    <tr>\n",
       "      <th>311</th>\n",
       "      <td>312</td>\n",
       "      <td>True</td>\n",
       "      <td>1</td>\n",
       "      <td>female</td>\n",
       "      <td>18.0</td>\n",
       "      <td>2</td>\n",
       "      <td>2</td>\n",
       "      <td>262.375</td>\n",
       "      <td>B57 B59 B63 B66</td>\n",
       "      <td>C</td>\n",
       "      <td>Ryerson</td>\n",
       "      <td>Miss. Emily Borie</td>\n",
       "      <td>False</td>\n",
       "      <td>17608</td>\n",
       "      <td>PC</td>\n",
       "    </tr>\n",
       "    <tr>\n",
       "      <th>742</th>\n",
       "      <td>743</td>\n",
       "      <td>True</td>\n",
       "      <td>1</td>\n",
       "      <td>female</td>\n",
       "      <td>21.0</td>\n",
       "      <td>2</td>\n",
       "      <td>2</td>\n",
       "      <td>262.375</td>\n",
       "      <td>B57 B59 B63 B66</td>\n",
       "      <td>C</td>\n",
       "      <td>Ryerson</td>\n",
       "      <td>Miss. Susan Parker \"Suzette\"</td>\n",
       "      <td>False</td>\n",
       "      <td>17608</td>\n",
       "      <td>PC</td>\n",
       "    </tr>\n",
       "  </tbody>\n",
       "</table>\n",
       "</div>"
      ],
      "text/plain": [
       "     PassengerId Survived Pclass     Sex   Age  SibSp  Parch     Fare  \\\n",
       "311          312     True      1  female  18.0      2      2  262.375   \n",
       "742          743     True      1  female  21.0      2      2  262.375   \n",
       "\n",
       "               Cabin Embarked LastName                     FirstName  \\\n",
       "311  B57 B59 B63 B66        C  Ryerson             Miss. Emily Borie   \n",
       "742  B57 B59 B63 B66        C  Ryerson  Miss. Susan Parker \"Suzette\"   \n",
       "\n",
       "    MarriedWoman  TicketNumber TicketPrefix  \n",
       "311        False         17608           PC  \n",
       "742        False         17608           PC  "
      ]
     },
     "execution_count": 38,
     "metadata": {},
     "output_type": "execute_result"
    }
   ],
   "source": [
    "titanic.loc[titanic['LastName'].apply(lambda name: 'Ryerson' in name)]"
   ]
  },
  {
   "cell_type": "markdown",
   "metadata": {},
   "source": [
    "There are also no other persons assigned to any of these cabins."
   ]
  },
  {
   "cell_type": "code",
   "execution_count": 39,
   "metadata": {},
   "outputs": [
    {
     "data": {
      "text/html": [
       "<div>\n",
       "<style>\n",
       "    .dataframe thead tr:only-child th {\n",
       "        text-align: right;\n",
       "    }\n",
       "\n",
       "    .dataframe thead th {\n",
       "        text-align: left;\n",
       "    }\n",
       "\n",
       "    .dataframe tbody tr th {\n",
       "        vertical-align: top;\n",
       "    }\n",
       "</style>\n",
       "<table border=\"1\" class=\"dataframe\">\n",
       "  <thead>\n",
       "    <tr style=\"text-align: right;\">\n",
       "      <th></th>\n",
       "      <th>PassengerId</th>\n",
       "      <th>Survived</th>\n",
       "      <th>Pclass</th>\n",
       "      <th>Sex</th>\n",
       "      <th>Age</th>\n",
       "      <th>SibSp</th>\n",
       "      <th>Parch</th>\n",
       "      <th>Fare</th>\n",
       "      <th>Cabin</th>\n",
       "      <th>Embarked</th>\n",
       "      <th>LastName</th>\n",
       "      <th>FirstName</th>\n",
       "      <th>MarriedWoman</th>\n",
       "      <th>TicketNumber</th>\n",
       "      <th>TicketPrefix</th>\n",
       "    </tr>\n",
       "  </thead>\n",
       "  <tbody>\n",
       "    <tr>\n",
       "      <th>311</th>\n",
       "      <td>312</td>\n",
       "      <td>True</td>\n",
       "      <td>1</td>\n",
       "      <td>female</td>\n",
       "      <td>18.0</td>\n",
       "      <td>2</td>\n",
       "      <td>2</td>\n",
       "      <td>262.375</td>\n",
       "      <td>B57 B59 B63 B66</td>\n",
       "      <td>C</td>\n",
       "      <td>Ryerson</td>\n",
       "      <td>Miss. Emily Borie</td>\n",
       "      <td>False</td>\n",
       "      <td>17608</td>\n",
       "      <td>PC</td>\n",
       "    </tr>\n",
       "    <tr>\n",
       "      <th>742</th>\n",
       "      <td>743</td>\n",
       "      <td>True</td>\n",
       "      <td>1</td>\n",
       "      <td>female</td>\n",
       "      <td>21.0</td>\n",
       "      <td>2</td>\n",
       "      <td>2</td>\n",
       "      <td>262.375</td>\n",
       "      <td>B57 B59 B63 B66</td>\n",
       "      <td>C</td>\n",
       "      <td>Ryerson</td>\n",
       "      <td>Miss. Susan Parker \"Suzette\"</td>\n",
       "      <td>False</td>\n",
       "      <td>17608</td>\n",
       "      <td>PC</td>\n",
       "    </tr>\n",
       "  </tbody>\n",
       "</table>\n",
       "</div>"
      ],
      "text/plain": [
       "     PassengerId Survived Pclass     Sex   Age  SibSp  Parch     Fare  \\\n",
       "311          312     True      1  female  18.0      2      2  262.375   \n",
       "742          743     True      1  female  21.0      2      2  262.375   \n",
       "\n",
       "               Cabin Embarked LastName                     FirstName  \\\n",
       "311  B57 B59 B63 B66        C  Ryerson             Miss. Emily Borie   \n",
       "742  B57 B59 B63 B66        C  Ryerson  Miss. Susan Parker \"Suzette\"   \n",
       "\n",
       "    MarriedWoman  TicketNumber TicketPrefix  \n",
       "311        False         17608           PC  \n",
       "742        False         17608           PC  "
      ]
     },
     "execution_count": 39,
     "metadata": {},
     "output_type": "execute_result"
    }
   ],
   "source": [
    "titanic.loc[titanic['Cabin'].apply(lambda cabin: not isinstance(cabin, float) and \n",
    "                                   ('B57' in cabin or 'B59' in cabin or 'B63' in cabin or 'B66' in cabin))]"
   ]
  },
  {
   "cell_type": "markdown",
   "metadata": {},
   "source": [
    "The [Cabin Assignments](https://www.encyclopedia-titanica.org/cabins.html) list suggests there were indeed more passengers that did not appear on the Cave List."
   ]
  },
  {
   "cell_type": "markdown",
   "metadata": {},
   "source": [
    "We will now split these information into separate columns encoding the deck of the cabin, the number of cabins assigned to the passenger, as well as the proportion of assigned cabins starboard."
   ]
  },
  {
   "cell_type": "code",
   "execution_count": 40,
   "metadata": {},
   "outputs": [],
   "source": [
    "def get_deck(cabin):\n",
    "    if isinstance(cabin, float):\n",
    "        assert math.isnan(cabin)\n",
    "        return float('NaN')\n",
    "    d = cabin[0]\n",
    "    return 'Boat' if d == 'T' else d\n",
    "\n",
    "def get_cabins(cabin):\n",
    "    if isinstance(cabin, float):\n",
    "        assert math.isnan(cabin)\n",
    "        return None\n",
    "    cabins = cabin.split()\n",
    "    return [cabin] if cabins[0] == 'F' else cabins\n",
    "\n",
    "def get_num_cabins(cabin):\n",
    "    cabins = get_cabins(cabin)\n",
    "    return float('NaN') if cabins is None else len(cabins)\n",
    "\n",
    "def get_is_starboard(cabin):\n",
    "    cabins = get_cabins(cabin)\n",
    "    if cabins is None:\n",
    "        return cabin\n",
    "    # Edge case: For the cabins marked 'D' only the deck is known.\n",
    "    if cabins == ['D']:\n",
    "        return float('NaN')\n",
    "    # From the deck plan we know cabin 'T' is starboard.\n",
    "    if cabins == ['T']:\n",
    "        return True\n",
    "    # Looking at all the ending digits of all cabins, determine if they are odd, then take the mean.\n",
    "    return np.array([int(c[-1]) % 2 for c in cabins]).mean()\n",
    "\n",
    "titanic['CabinDeck'] = titanic['Cabin'].apply(get_deck).astype('category')\n",
    "titanic['NumCabins'] = titanic['Cabin'].apply(get_num_cabins)\n",
    "titanic['CabinsStarboard'] = titanic['Cabin'].apply(get_is_starboard)"
   ]
  },
  {
   "cell_type": "code",
   "execution_count": 41,
   "metadata": {},
   "outputs": [
    {
     "data": {
      "text/html": [
       "<div>\n",
       "<style>\n",
       "    .dataframe thead tr:only-child th {\n",
       "        text-align: right;\n",
       "    }\n",
       "\n",
       "    .dataframe thead th {\n",
       "        text-align: left;\n",
       "    }\n",
       "\n",
       "    .dataframe tbody tr th {\n",
       "        vertical-align: top;\n",
       "    }\n",
       "</style>\n",
       "<table border=\"1\" class=\"dataframe\">\n",
       "  <thead>\n",
       "    <tr style=\"text-align: right;\">\n",
       "      <th></th>\n",
       "      <th>PassengerId</th>\n",
       "      <th>Survived</th>\n",
       "      <th>Pclass</th>\n",
       "      <th>Sex</th>\n",
       "      <th>Age</th>\n",
       "      <th>SibSp</th>\n",
       "      <th>Parch</th>\n",
       "      <th>Fare</th>\n",
       "      <th>Cabin</th>\n",
       "      <th>Embarked</th>\n",
       "      <th>LastName</th>\n",
       "      <th>FirstName</th>\n",
       "      <th>MarriedWoman</th>\n",
       "      <th>TicketNumber</th>\n",
       "      <th>TicketPrefix</th>\n",
       "      <th>CabinDeck</th>\n",
       "      <th>NumCabins</th>\n",
       "      <th>CabinsStarboard</th>\n",
       "    </tr>\n",
       "  </thead>\n",
       "  <tbody>\n",
       "    <tr>\n",
       "      <th>742</th>\n",
       "      <td>743</td>\n",
       "      <td>True</td>\n",
       "      <td>1</td>\n",
       "      <td>female</td>\n",
       "      <td>21.00</td>\n",
       "      <td>2</td>\n",
       "      <td>2</td>\n",
       "      <td>262.3750</td>\n",
       "      <td>B57 B59 B63 B66</td>\n",
       "      <td>C</td>\n",
       "      <td>Ryerson</td>\n",
       "      <td>Miss. Susan Parker \"Suzette\"</td>\n",
       "      <td>False</td>\n",
       "      <td>17608</td>\n",
       "      <td>PC</td>\n",
       "      <td>B</td>\n",
       "      <td>4.0</td>\n",
       "      <td>0.75</td>\n",
       "    </tr>\n",
       "    <tr>\n",
       "      <th>311</th>\n",
       "      <td>312</td>\n",
       "      <td>True</td>\n",
       "      <td>1</td>\n",
       "      <td>female</td>\n",
       "      <td>18.00</td>\n",
       "      <td>2</td>\n",
       "      <td>2</td>\n",
       "      <td>262.3750</td>\n",
       "      <td>B57 B59 B63 B66</td>\n",
       "      <td>C</td>\n",
       "      <td>Ryerson</td>\n",
       "      <td>Miss. Emily Borie</td>\n",
       "      <td>False</td>\n",
       "      <td>17608</td>\n",
       "      <td>PC</td>\n",
       "      <td>B</td>\n",
       "      <td>4.0</td>\n",
       "      <td>0.75</td>\n",
       "    </tr>\n",
       "    <tr>\n",
       "      <th>679</th>\n",
       "      <td>680</td>\n",
       "      <td>True</td>\n",
       "      <td>1</td>\n",
       "      <td>male</td>\n",
       "      <td>36.00</td>\n",
       "      <td>0</td>\n",
       "      <td>1</td>\n",
       "      <td>512.3292</td>\n",
       "      <td>B51 B53 B55</td>\n",
       "      <td>C</td>\n",
       "      <td>Cardeza</td>\n",
       "      <td>Mr. Thomas Drake Martinez</td>\n",
       "      <td>NaN</td>\n",
       "      <td>17755</td>\n",
       "      <td>PC</td>\n",
       "      <td>B</td>\n",
       "      <td>3.0</td>\n",
       "      <td>1</td>\n",
       "    </tr>\n",
       "    <tr>\n",
       "      <th>27</th>\n",
       "      <td>28</td>\n",
       "      <td>False</td>\n",
       "      <td>1</td>\n",
       "      <td>male</td>\n",
       "      <td>19.00</td>\n",
       "      <td>3</td>\n",
       "      <td>2</td>\n",
       "      <td>263.0000</td>\n",
       "      <td>C23 C25 C27</td>\n",
       "      <td>S</td>\n",
       "      <td>Fortune</td>\n",
       "      <td>Mr. Charles Alexander</td>\n",
       "      <td>NaN</td>\n",
       "      <td>19950</td>\n",
       "      <td></td>\n",
       "      <td>C</td>\n",
       "      <td>3.0</td>\n",
       "      <td>1</td>\n",
       "    </tr>\n",
       "    <tr>\n",
       "      <th>341</th>\n",
       "      <td>342</td>\n",
       "      <td>True</td>\n",
       "      <td>1</td>\n",
       "      <td>female</td>\n",
       "      <td>24.00</td>\n",
       "      <td>3</td>\n",
       "      <td>2</td>\n",
       "      <td>263.0000</td>\n",
       "      <td>C23 C25 C27</td>\n",
       "      <td>S</td>\n",
       "      <td>Fortune</td>\n",
       "      <td>Miss. Alice Elizabeth</td>\n",
       "      <td>False</td>\n",
       "      <td>19950</td>\n",
       "      <td></td>\n",
       "      <td>C</td>\n",
       "      <td>3.0</td>\n",
       "      <td>1</td>\n",
       "    </tr>\n",
       "    <tr>\n",
       "      <th>88</th>\n",
       "      <td>89</td>\n",
       "      <td>True</td>\n",
       "      <td>1</td>\n",
       "      <td>female</td>\n",
       "      <td>23.00</td>\n",
       "      <td>3</td>\n",
       "      <td>2</td>\n",
       "      <td>263.0000</td>\n",
       "      <td>C23 C25 C27</td>\n",
       "      <td>S</td>\n",
       "      <td>Fortune</td>\n",
       "      <td>Miss. Mabel Helen</td>\n",
       "      <td>False</td>\n",
       "      <td>19950</td>\n",
       "      <td></td>\n",
       "      <td>C</td>\n",
       "      <td>3.0</td>\n",
       "      <td>1</td>\n",
       "    </tr>\n",
       "    <tr>\n",
       "      <th>438</th>\n",
       "      <td>439</td>\n",
       "      <td>False</td>\n",
       "      <td>1</td>\n",
       "      <td>male</td>\n",
       "      <td>64.00</td>\n",
       "      <td>1</td>\n",
       "      <td>4</td>\n",
       "      <td>263.0000</td>\n",
       "      <td>C23 C25 C27</td>\n",
       "      <td>S</td>\n",
       "      <td>Fortune</td>\n",
       "      <td>Mr. Mark</td>\n",
       "      <td>NaN</td>\n",
       "      <td>19950</td>\n",
       "      <td></td>\n",
       "      <td>C</td>\n",
       "      <td>3.0</td>\n",
       "      <td>1</td>\n",
       "    </tr>\n",
       "    <tr>\n",
       "      <th>872</th>\n",
       "      <td>873</td>\n",
       "      <td>False</td>\n",
       "      <td>1</td>\n",
       "      <td>male</td>\n",
       "      <td>33.00</td>\n",
       "      <td>0</td>\n",
       "      <td>0</td>\n",
       "      <td>5.0000</td>\n",
       "      <td>B51 B53 B55</td>\n",
       "      <td>S</td>\n",
       "      <td>Carlsson</td>\n",
       "      <td>Mr. Frans Olof</td>\n",
       "      <td>NaN</td>\n",
       "      <td>695</td>\n",
       "      <td></td>\n",
       "      <td>B</td>\n",
       "      <td>3.0</td>\n",
       "      <td>1</td>\n",
       "    </tr>\n",
       "    <tr>\n",
       "      <th>498</th>\n",
       "      <td>499</td>\n",
       "      <td>False</td>\n",
       "      <td>1</td>\n",
       "      <td>female</td>\n",
       "      <td>25.00</td>\n",
       "      <td>1</td>\n",
       "      <td>2</td>\n",
       "      <td>151.5500</td>\n",
       "      <td>C22 C26</td>\n",
       "      <td>S</td>\n",
       "      <td>Allison</td>\n",
       "      <td>Mrs. Hudson J C (Bessie Waldo Daniels)</td>\n",
       "      <td>True</td>\n",
       "      <td>113781</td>\n",
       "      <td></td>\n",
       "      <td>C</td>\n",
       "      <td>2.0</td>\n",
       "      <td>0</td>\n",
       "    </tr>\n",
       "    <tr>\n",
       "      <th>305</th>\n",
       "      <td>306</td>\n",
       "      <td>True</td>\n",
       "      <td>1</td>\n",
       "      <td>male</td>\n",
       "      <td>0.92</td>\n",
       "      <td>1</td>\n",
       "      <td>2</td>\n",
       "      <td>151.5500</td>\n",
       "      <td>C22 C26</td>\n",
       "      <td>S</td>\n",
       "      <td>Allison</td>\n",
       "      <td>Master. Hudson Trevor</td>\n",
       "      <td>NaN</td>\n",
       "      <td>113781</td>\n",
       "      <td></td>\n",
       "      <td>C</td>\n",
       "      <td>2.0</td>\n",
       "      <td>0</td>\n",
       "    </tr>\n",
       "  </tbody>\n",
       "</table>\n",
       "</div>"
      ],
      "text/plain": [
       "     PassengerId Survived Pclass     Sex    Age  SibSp  Parch      Fare  \\\n",
       "742          743     True      1  female  21.00      2      2  262.3750   \n",
       "311          312     True      1  female  18.00      2      2  262.3750   \n",
       "679          680     True      1    male  36.00      0      1  512.3292   \n",
       "27            28    False      1    male  19.00      3      2  263.0000   \n",
       "341          342     True      1  female  24.00      3      2  263.0000   \n",
       "88            89     True      1  female  23.00      3      2  263.0000   \n",
       "438          439    False      1    male  64.00      1      4  263.0000   \n",
       "872          873    False      1    male  33.00      0      0    5.0000   \n",
       "498          499    False      1  female  25.00      1      2  151.5500   \n",
       "305          306     True      1    male   0.92      1      2  151.5500   \n",
       "\n",
       "               Cabin Embarked  LastName  \\\n",
       "742  B57 B59 B63 B66        C   Ryerson   \n",
       "311  B57 B59 B63 B66        C   Ryerson   \n",
       "679      B51 B53 B55        C   Cardeza   \n",
       "27       C23 C25 C27        S   Fortune   \n",
       "341      C23 C25 C27        S   Fortune   \n",
       "88       C23 C25 C27        S   Fortune   \n",
       "438      C23 C25 C27        S   Fortune   \n",
       "872      B51 B53 B55        S  Carlsson   \n",
       "498          C22 C26        S   Allison   \n",
       "305          C22 C26        S   Allison   \n",
       "\n",
       "                                  FirstName MarriedWoman  TicketNumber  \\\n",
       "742            Miss. Susan Parker \"Suzette\"        False         17608   \n",
       "311                       Miss. Emily Borie        False         17608   \n",
       "679               Mr. Thomas Drake Martinez          NaN         17755   \n",
       "27                    Mr. Charles Alexander          NaN         19950   \n",
       "341                   Miss. Alice Elizabeth        False         19950   \n",
       "88                        Miss. Mabel Helen        False         19950   \n",
       "438                                Mr. Mark          NaN         19950   \n",
       "872                          Mr. Frans Olof          NaN           695   \n",
       "498  Mrs. Hudson J C (Bessie Waldo Daniels)         True        113781   \n",
       "305                   Master. Hudson Trevor          NaN        113781   \n",
       "\n",
       "    TicketPrefix CabinDeck  NumCabins CabinsStarboard  \n",
       "742           PC         B        4.0            0.75  \n",
       "311           PC         B        4.0            0.75  \n",
       "679           PC         B        3.0               1  \n",
       "27                       C        3.0               1  \n",
       "341                      C        3.0               1  \n",
       "88                       C        3.0               1  \n",
       "438                      C        3.0               1  \n",
       "872                      B        3.0               1  \n",
       "498                      C        2.0               0  \n",
       "305                      C        2.0               0  "
      ]
     },
     "execution_count": 41,
     "metadata": {},
     "output_type": "execute_result"
    }
   ],
   "source": [
    "titanic.sort_values('NumCabins', ascending=False).head(n=10)"
   ]
  },
  {
   "cell_type": "markdown",
   "metadata": {},
   "source": [
    "The edge case of `F G73` shows only one cabin in the `NumCabins` column, as expected. "
   ]
  },
  {
   "cell_type": "code",
   "execution_count": 42,
   "metadata": {},
   "outputs": [
    {
     "data": {
      "text/plain": [
       "PassengerId                       76\n",
       "Survived                       False\n",
       "Pclass                             3\n",
       "Sex                             male\n",
       "Age                               25\n",
       "SibSp                              0\n",
       "Parch                              0\n",
       "Fare                            7.65\n",
       "Cabin                          F G73\n",
       "Embarked                           S\n",
       "LastName                        Moen\n",
       "FirstName          Mr. Sigurd Hansen\n",
       "MarriedWoman                     NaN\n",
       "TicketNumber                  348123\n",
       "TicketPrefix                        \n",
       "CabinDeck                          F\n",
       "NumCabins                          1\n",
       "CabinsStarboard                    1\n",
       "Name: 75, dtype: object"
      ]
     },
     "execution_count": 42,
     "metadata": {},
     "output_type": "execute_result"
    }
   ],
   "source": [
    "titanic.loc[75]"
   ]
  },
  {
   "cell_type": "markdown",
   "metadata": {},
   "source": [
    "### Embarkation port\n",
    "\n",
    "The port of embarkation column contains only the expected values `S`, `C` and `Q`, as well as some empty fields. It is changed to a categorical value."
   ]
  },
  {
   "cell_type": "code",
   "execution_count": 43,
   "metadata": {},
   "outputs": [
    {
     "data": {
      "text/plain": [
       "array(['S', 'C', 'Q', nan], dtype=object)"
      ]
     },
     "execution_count": 43,
     "metadata": {},
     "output_type": "execute_result"
    }
   ],
   "source": [
    "titanic['Embarked'].unique()"
   ]
  },
  {
   "cell_type": "code",
   "execution_count": 44,
   "metadata": {},
   "outputs": [
    {
     "data": {
      "text/plain": [
       "S    644\n",
       "C    168\n",
       "Q     77\n",
       "Name: Embarked, dtype: int64"
      ]
     },
     "execution_count": 44,
     "metadata": {},
     "output_type": "execute_result"
    }
   ],
   "source": [
    "titanic['Embarked'].value_counts()"
   ]
  },
  {
   "cell_type": "code",
   "execution_count": 45,
   "metadata": {},
   "outputs": [
    {
     "data": {
      "text/plain": [
       "[S, C, Q, NaN]\n",
       "Categories (3, object): [S, C, Q]"
      ]
     },
     "execution_count": 45,
     "metadata": {},
     "output_type": "execute_result"
    }
   ],
   "source": [
    "titanic['Embarked'] = titanic['Embarked'].astype('category')\n",
    "titanic['Embarked'].unique()"
   ]
  },
  {
   "cell_type": "markdown",
   "metadata": {},
   "source": [
    "# Data visualization\n",
    "\n",
    "With the data prepared, we can now look into visualizing the data. "
   ]
  },
  {
   "cell_type": "code",
   "execution_count": 54,
   "metadata": {
    "collapsed": true
   },
   "outputs": [],
   "source": [
    "%matplotlib inline\n",
    "import matplotlib.pyplot as plt\n",
    "import seaborn as sns"
   ]
  },
  {
   "cell_type": "markdown",
   "metadata": {},
   "source": [
    "Let's first look at the distribution of male and female passengers aboard the Titanic."
   ]
  },
  {
   "cell_type": "code",
   "execution_count": 62,
   "metadata": {},
   "outputs": [
    {
     "data": {
      "image/png": "[encoded data removed]",
      "text/plain": [
       "<matplotlib.figure.Figure at 0x7f6073a5b978>"
      ]
     },
     "metadata": {},
     "output_type": "display_data"
    }
   ],
   "source": [
    "sns.countplot(x='Sex', data=titanic);"
   ]
  },
  {
   "cell_type": "markdown",
   "metadata": {},
   "source": [
    "From this we can easily see that there were more male passengers than female ones. So, **Women and children first**? Let's have a look:"
   ]
  },
  {
   "cell_type": "code",
   "execution_count": 125,
   "metadata": {},
   "outputs": [
    {
     "data": {
      "image/png": "[encoded data removed]",
      "text/plain": [
       "<matplotlib.figure.Figure at 0x7f606fe2c208>"
      ]
     },
     "metadata": {},
     "output_type": "display_data"
    }
   ],
   "source": [
    "sns.factorplot(x='Sex', col='Survived', data=titanic, kind='count', size=4, aspect=1.5);"
   ]
  },
  {
   "cell_type": "markdown",
   "metadata": {},
   "source": [
    "Clearly, more women survived the Titanic disaster than men did, and vastly more men died that night. What about the **Childrens first** part?"
   ]
  },
  {
   "cell_type": "code",
   "execution_count": 148,
   "metadata": {},
   "outputs": [
    {
     "data": {
      "image/png": "[encoded data removed]",
      "text/plain": [
       "<matplotlib.figure.Figure at 0x7f606fcb0c50>"
      ]
     },
     "metadata": {},
     "output_type": "display_data"
    }
   ],
   "source": [
    "sns.factorplot(x='Age', col='Survived', data=titanic, kind='violin', size=4, aspect=1.5);"
   ]
  },
  {
   "cell_type": "markdown",
   "metadata": {},
   "source": [
    "While the median of both distributions appear to be around the `25-30` years marker, the density of the distribution of survivors is significantly extended around the `0-10` years area.\n",
    "\n",
    "Looking at the statistics of children younger than 14 years (there is at least one case of a 14 year old married woman in the dataset), we find that 42 children survived the event, with an average age of about four years."
   ]
  },
  {
   "cell_type": "code",
   "execution_count": 165,
   "metadata": {},
   "outputs": [
    {
     "data": {
      "text/plain": [
       "count    42.000000\n",
       "mean      4.313571\n",
       "std       3.528576\n",
       "min       0.420000\n",
       "25%       1.000000\n",
       "50%       4.000000\n",
       "75%       5.750000\n",
       "max      13.000000\n",
       "Name: Age, dtype: float64"
      ]
     },
     "execution_count": 165,
     "metadata": {},
     "output_type": "execute_result"
    }
   ],
   "source": [
    "childhood_threshold = 14\n",
    "titanic[(titanic['Survived'] == True) & (titanic['Age'] < childhood_threshold)]['Age'].describe()"
   ]
  },
  {
   "cell_type": "markdown",
   "metadata": {},
   "source": [
    "However, 29 children did not survive the Titanic."
   ]
  },
  {
   "cell_type": "code",
   "execution_count": 167,
   "metadata": {},
   "outputs": [
    {
     "data": {
      "text/plain": [
       "count    29.00000\n",
       "mean      6.00000\n",
       "std       3.55568\n",
       "min       1.00000\n",
       "25%       2.00000\n",
       "50%       7.00000\n",
       "75%       9.00000\n",
       "max      11.00000\n",
       "Name: Age, dtype: float64"
      ]
     },
     "execution_count": 167,
     "metadata": {},
     "output_type": "execute_result"
    }
   ],
   "source": [
    "titanic[(titanic['Survived'] == False) & (titanic['Age'] < childhood_threshold)]['Age'].describe()"
   ]
  },
  {
   "cell_type": "markdown",
   "metadata": {},
   "source": [
    "So what influence did the ticket class have on the survival? Let's look at sex (along the rows), survivorship (along the columns) and ticket class (the separate series) and relate it to the age of the passenger."
   ]
  },
  {
   "cell_type": "code",
   "execution_count": 164,
   "metadata": {},
   "outputs": [
    {
     "data": {
      "text/plain": [
       "<seaborn.axisgrid.FacetGrid at 0x7f606e7c7208>"
      ]
     },
     "execution_count": 164,
     "metadata": {},
     "output_type": "execute_result"
    },
    {
     "data": {
      "image/png": "[encoded data removed]",
      "text/plain": [
       "<matplotlib.figure.Figure at 0x7f606e7c72e8>"
      ]
     },
     "metadata": {},
     "output_type": "display_data"
    }
   ],
   "source": [
    "g = sns.FacetGrid(titanic, col='Survived', row='Sex', size=4, aspect=1.5)\n",
    "g.map(sns.violinplot, 'Age', 'Pclass')"
   ]
  },
  {
   "cell_type": "code",
   "execution_count": 205,
   "metadata": {},
   "outputs": [
    {
     "data": {
      "image/png": "[encoded data removed]",
      "text/plain": [
       "<matplotlib.figure.Figure at 0x7f606359a278>"
      ]
     },
     "metadata": {},
     "output_type": "display_data"
    }
   ],
   "source": [
    "sns.factorplot('Survived', col='CabinDeck', col_wrap=4,\n",
    "               data=titanic,\n",
    "               kind='count', size=4, aspect=.75);"
   ]
  },
  {
   "cell_type": "code",
   "execution_count": 204,
   "metadata": {},
   "outputs": [
    {
     "data": {
      "image/png": "[encoded data removed]",
      "text/plain": [
       "<matplotlib.figure.Figure at 0x7f6063a196d8>"
      ]
     },
     "metadata": {},
     "output_type": "display_data"
    }
   ],
   "source": [
    "sns.countplot(x='CabinDeck', data=titanic)\n",
    "plt.xlabel('Deck');"
   ]
  },
  {
   "cell_type": "code",
   "execution_count": 211,
   "metadata": {},
   "outputs": [
    {
     "data": {
      "image/png": "[encoded data removed]",
      "text/plain": [
       "<matplotlib.figure.Figure at 0x7f6063fac630>"
      ]
     },
     "metadata": {},
     "output_type": "display_data"
    }
   ],
   "source": [
    "g = sns.FacetGrid(titanic, col='Survived', row='Sex', size=4, aspect=1.5)\n",
    "g.map(sns.countplot, 'CabinDeck');"
   ]
  },
  {
   "cell_type": "markdown",
   "metadata": {},
   "source": [
    "Even more clearly, about five times the number in men did not survive."
   ]
  },
  {
   "cell_type": "code",
   "execution_count": 110,
   "metadata": {},
   "outputs": [
    {
     "data": {
      "image/png": "[encoded data removed]",
      "text/plain": [
       "<matplotlib.figure.Figure at 0x7f606f76dda0>"
      ]
     },
     "metadata": {},
     "output_type": "display_data"
    }
   ],
   "source": [
    "sns.countplot(x='Age', data=titanic[titanic['Survived'] == True])\n",
    "plt.ylabel('Survivors');"
   ]
  },
  {
   "cell_type": "code",
   "execution_count": 81,
   "metadata": {},
   "outputs": [
    {
     "data": {
      "image/png": "[encoded data removed]",
      "text/plain": [
       "<matplotlib.figure.Figure at 0x7f606f8266a0>"
      ]
     },
     "metadata": {},
     "output_type": "display_data"
    }
   ],
   "source": [
    "sns.countplot(x='Pclass', data=titanic)\n",
    "plt.xlabel('Ticket Class');"
   ]
  },
  {
   "cell_type": "markdown",
   "metadata": {},
   "source": [
    "Let's have a look at the ticket prices per class."
   ]
  },
  {
   "cell_type": "code",
   "execution_count": 100,
   "metadata": {},
   "outputs": [
    {
     "data": {
      "image/png": "[encoded data removed]",
      "text/plain": [
       "<matplotlib.figure.Figure at 0x7f606fa13588>"
      ]
     },
     "metadata": {},
     "output_type": "display_data"
    }
   ],
   "source": [
    "sns.boxplot(x='Pclass', data=titanic, y='Fare')\n",
    "plt.xlabel('Ticket class');"
   ]
  },
  {
   "cell_type": "markdown",
   "metadata": {},
   "source": [
    "There appear to be major outliers in the first class, which we will investigate in a second. It's also interesting to see that some tickets in the third class exceeded the price of regular second class tickets and also lied well withing the IQR of the first class tickets."
   ]
  },
  {
   "cell_type": "code",
   "execution_count": null,
   "metadata": {
    "collapsed": true
   },
   "outputs": [],
   "source": []
  },
  {
   "cell_type": "code",
   "execution_count": null,
   "metadata": {},
   "outputs": [],
   "source": []
  },
  {
   "cell_type": "code",
   "execution_count": null,
   "metadata": {
    "collapsed": true
   },
   "outputs": [],
   "source": []
  },
  {
   "cell_type": "code",
   "execution_count": null,
   "metadata": {
    "collapsed": true
   },
   "outputs": [],
   "source": []
  },
  {
   "cell_type": "code",
   "execution_count": null,
   "metadata": {
    "collapsed": true
   },
   "outputs": [],
   "source": []
  },
  {
   "cell_type": "code",
   "execution_count": 47,
   "metadata": {},
   "outputs": [
    {
     "data": {
      "text/plain": [
       "Mr. John                                         7\n",
       "Mr. James                                        7\n",
       "Miss. Mary                                       6\n",
       "Mr. William                                      6\n",
       "Mr. William Henry                                4\n",
       "Mr. Ivan                                         4\n",
       "Miss. Bertha                                     4\n",
       "Mr. William John                                 4\n",
       "Mr. Patrick                                      3\n",
       "Miss. Anna Sofia                                 3\n",
       "Mr. Martin                                       3\n",
       "Miss. Anna                                       3\n",
       "Mr. Samuel                                       3\n",
       "Mr. George                                       3\n",
       "Mr. Victor                                       3\n",
       "Mr. Tannous                                      3\n",
       "Mr. Charles H                                    2\n",
       "Mr. Richard                                      2\n",
       "Mr. Harry                                        2\n",
       "Miss. Katherine \"Katie\"                          2\n",
       "Mr. Emil                                         2\n",
       "Mr. Jakob Alfred                                 2\n",
       "Mr. Lalio                                        2\n",
       "Mr. George Henry                                 2\n",
       "Mr. Thomas                                       2\n",
       "Mr. William Thomas                               2\n",
       "Mr. Juho                                         2\n",
       "Miss. Ellen \"Nellie\"                             2\n",
       "Miss. Hanora \"Nora\"                              2\n",
       "Mr. Albert                                       2\n",
       "                                                ..\n",
       "Mr. John Hugo                                    1\n",
       "Mrs. Josef (Josefine Franchi)                    1\n",
       "Mrs. William A (Florence \"Mary\" Agnes Hughes)    1\n",
       "Mr. Joseph Jr                                    1\n",
       "Mr. Charles Hallace (\"Mr C Rolmane\")             1\n",
       "Master. Michel M                                 1\n",
       "Mr. Khalil                                       1\n",
       "Master. Clarence Gustaf Hugo                     1\n",
       "Mr. Stephen                                      1\n",
       "Mrs. Nils (Alma Cornelia Berglund)               1\n",
       "Mr. Paul Edvin                                   1\n",
       "Mr. Frans Olof                                   1\n",
       "Mrs. Mara                                        1\n",
       "Mr. Milton Clyde                                 1\n",
       "Mlle. Berthe Antonine (\"Mrs de Villiers\")        1\n",
       "Miss. Julie Rachel                               1\n",
       "Capt. Edward Gifford                             1\n",
       "Miss. Margaret \"Maggie\"                          1\n",
       "Mr. Antti Wilhelm                                1\n",
       "Mr. Nikola                                       1\n",
       "Dr. Alice (Farnham)                              1\n",
       "Miss. Dorothy Edith \"Dolly\"                      1\n",
       "Miss. Annie                                      1\n",
       "Mrs. Frank Manley (Anna Sophia Atkinson)         1\n",
       "Mrs. Frederick (Augusta Tyler)                   1\n",
       "Mrs. Edward Dale (Charlotte Lamson)              1\n",
       "Mr. William Cahoone Jr                           1\n",
       "Mr. Abraham (David Lishin)                       1\n",
       "Mrs. Louis Albert (Ida Sophia Fischer)           1\n",
       "Miss. Harriet R                                  1\n",
       "Name: FirstName, Length: 803, dtype: int64"
      ]
     },
     "execution_count": 47,
     "metadata": {},
     "output_type": "execute_result"
    }
   ],
   "source": [
    "titanic['FirstName'].value_counts()"
   ]
  },
  {
   "cell_type": "code",
   "execution_count": 50,
   "metadata": {},
   "outputs": [
    {
     "data": {
      "text/html": [
       "<div>\n",
       "<style>\n",
       "    .dataframe thead tr:only-child th {\n",
       "        text-align: right;\n",
       "    }\n",
       "\n",
       "    .dataframe thead th {\n",
       "        text-align: left;\n",
       "    }\n",
       "\n",
       "    .dataframe tbody tr th {\n",
       "        vertical-align: top;\n",
       "    }\n",
       "</style>\n",
       "<table border=\"1\" class=\"dataframe\">\n",
       "  <thead>\n",
       "    <tr style=\"text-align: right;\">\n",
       "      <th></th>\n",
       "      <th>PassengerId</th>\n",
       "      <th>Survived</th>\n",
       "      <th>Pclass</th>\n",
       "      <th>Sex</th>\n",
       "      <th>Age</th>\n",
       "      <th>SibSp</th>\n",
       "      <th>Parch</th>\n",
       "      <th>Fare</th>\n",
       "      <th>Cabin</th>\n",
       "      <th>Embarked</th>\n",
       "      <th>LastName</th>\n",
       "      <th>FirstName</th>\n",
       "      <th>MarriedWoman</th>\n",
       "      <th>TicketNumber</th>\n",
       "      <th>TicketPrefix</th>\n",
       "      <th>CabinDeck</th>\n",
       "      <th>NumCabins</th>\n",
       "      <th>CabinsStarboard</th>\n",
       "    </tr>\n",
       "  </thead>\n",
       "  <tbody>\n",
       "    <tr>\n",
       "      <th>28</th>\n",
       "      <td>29</td>\n",
       "      <td>True</td>\n",
       "      <td>3</td>\n",
       "      <td>female</td>\n",
       "      <td>NaN</td>\n",
       "      <td>0</td>\n",
       "      <td>0</td>\n",
       "      <td>7.8792</td>\n",
       "      <td>NaN</td>\n",
       "      <td>Q</td>\n",
       "      <td>O'Dwyer</td>\n",
       "      <td>Miss. Ellen \"Nellie\"</td>\n",
       "      <td>False</td>\n",
       "      <td>330959</td>\n",
       "      <td></td>\n",
       "      <td>NaN</td>\n",
       "      <td>NaN</td>\n",
       "      <td>NaN</td>\n",
       "    </tr>\n",
       "    <tr>\n",
       "      <th>290</th>\n",
       "      <td>291</td>\n",
       "      <td>True</td>\n",
       "      <td>1</td>\n",
       "      <td>female</td>\n",
       "      <td>26.0</td>\n",
       "      <td>0</td>\n",
       "      <td>0</td>\n",
       "      <td>78.8500</td>\n",
       "      <td>NaN</td>\n",
       "      <td>S</td>\n",
       "      <td>Barber</td>\n",
       "      <td>Miss. Ellen \"Nellie\"</td>\n",
       "      <td>False</td>\n",
       "      <td>19877</td>\n",
       "      <td></td>\n",
       "      <td>NaN</td>\n",
       "      <td>NaN</td>\n",
       "      <td>NaN</td>\n",
       "    </tr>\n",
       "  </tbody>\n",
       "</table>\n",
       "</div>"
      ],
      "text/plain": [
       "     PassengerId Survived Pclass     Sex   Age  SibSp  Parch     Fare Cabin  \\\n",
       "28            29     True      3  female   NaN      0      0   7.8792   NaN   \n",
       "290          291     True      1  female  26.0      0      0  78.8500   NaN   \n",
       "\n",
       "    Embarked LastName             FirstName MarriedWoman  TicketNumber  \\\n",
       "28         Q  O'Dwyer  Miss. Ellen \"Nellie\"        False        330959   \n",
       "290        S   Barber  Miss. Ellen \"Nellie\"        False         19877   \n",
       "\n",
       "    TicketPrefix CabinDeck  NumCabins CabinsStarboard  \n",
       "28                     NaN        NaN             NaN  \n",
       "290                    NaN        NaN             NaN  "
      ]
     },
     "execution_count": 50,
     "metadata": {},
     "output_type": "execute_result"
    }
   ],
   "source": [
    "titanic[titanic['FirstName'] == 'Miss. Ellen \"Nellie\"']"
   ]
  },
  {
   "cell_type": "code",
   "execution_count": 48,
   "metadata": {},
   "outputs": [
    {
     "data": {
      "text/plain": [
       "Andersson          9\n",
       "Sage               7\n",
       "Carter             6\n",
       "Skoog              6\n",
       "Panula             6\n",
       "Goodwin            6\n",
       "Johnson            6\n",
       "Rice               5\n",
       "Hart               4\n",
       "Baclini            4\n",
       "Smith              4\n",
       "Gustafsson         4\n",
       "Brown              4\n",
       "Harper             4\n",
       "Asplund            4\n",
       "Ford               4\n",
       "Williams           4\n",
       "Fortune            4\n",
       "Kelly              4\n",
       "Lefebre            4\n",
       "Harris             4\n",
       "Palsson            4\n",
       "Jussila            3\n",
       "Hansen             3\n",
       "Elias              3\n",
       "Moran              3\n",
       "Bourke             3\n",
       "Taussig            3\n",
       "Newell             3\n",
       "Collyer            3\n",
       "                  ..\n",
       "Turkula            1\n",
       "Alexander          1\n",
       "Christmann         1\n",
       "Bissette           1\n",
       "Mionoff            1\n",
       "Dahl               1\n",
       "Olsvigen           1\n",
       "Calderhead         1\n",
       "Nye                1\n",
       "Baumann            1\n",
       "Lahtinen           1\n",
       "Dodge              1\n",
       "Woolner            1\n",
       "Bryhl              1\n",
       "Brewe              1\n",
       "Molson             1\n",
       "McGough            1\n",
       "Gill               1\n",
       "Ostby              1\n",
       "Lester             1\n",
       "Naidenoff          1\n",
       "Lundahl            1\n",
       "Nenkoff            1\n",
       "Foreman            1\n",
       "Andersen-Jensen    1\n",
       "Nicholls           1\n",
       "Farthing           1\n",
       "Sirayanian         1\n",
       "Meanwell           1\n",
       "Laitinen           1\n",
       "Name: LastName, Length: 667, dtype: int64"
      ]
     },
     "execution_count": 48,
     "metadata": {},
     "output_type": "execute_result"
    }
   ],
   "source": [
    "titanic['LastName'].value_counts()"
   ]
  }
 ],
 "metadata": {
  "kernelspec": {
   "display_name": "Python [conda env:dand]",
   "language": "python",
   "name": "conda-env-dand-py"
  },
  "language_info": {
   "codemirror_mode": {
    "name": "ipython",
    "version": 3
   },
   "file_extension": ".py",
   "mimetype": "text/x-python",
   "name": "python",
   "nbconvert_exporter": "python",
   "pygments_lexer": "ipython3",
   "version": "3.6.1"
  }
 },
 "nbformat": 4,
 "nbformat_minor": 1
}
